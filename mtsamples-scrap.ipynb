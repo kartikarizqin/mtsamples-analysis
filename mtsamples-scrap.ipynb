{
 "cells": [
  {
   "cell_type": "code",
   "execution_count": 68,
   "id": "bottom-thomas",
   "metadata": {},
   "outputs": [],
   "source": [
    "# import package\n",
    "\n",
    "import pandas as pd\n",
    "import numpy as np\n",
    "import os\n",
    "from selenium import webdriver\n",
    "from selenium.webdriver.common.by import By"
   ]
  },
  {
   "cell_type": "code",
   "execution_count": 69,
   "id": "accredited-culture",
   "metadata": {},
   "outputs": [
    {
     "name": "stderr",
     "output_type": "stream",
     "text": [
      "<ipython-input-69-23f5819e648c>:6: DeprecationWarning: find_element_by_* commands are deprecated. Please use find_element() instead\n",
      "  browser.find_element_by_xpath(\"/html/body/main/div/div/div[2]/div[3]/div/div[1]/div[2]/label/select/option[4]\").click()\n"
     ]
    }
   ],
   "source": [
    "# run driver to get link\n",
    "\n",
    "browser = webdriver.Chrome()\n",
    "browser.get('https://www.mtsamples.com/site/pages/browse.asp?type=72-Psychiatry%20/%20Psychology')\n",
    "browser.find_element(By.CLASS_NAME, \"custom-select\")\n",
    "browser.find_element_by_xpath(\"/html/body/main/div/div/div[2]/div[3]/div/div[1]/div[2]/label/select/option[4]\").click()"
   ]
  },
  {
   "cell_type": "code",
   "execution_count": 70,
   "id": "reliable-oxford",
   "metadata": {},
   "outputs": [
    {
     "name": "stderr",
     "output_type": "stream",
     "text": [
      "<ipython-input-70-6f057a5f38ba>:5: DeprecationWarning: find_elements_by_* commands are deprecated. Please use find_elements() instead\n",
      "  link_driver = browser.find_elements_by_class_name(\"sorting_1\")\n",
      "/Users/kartikarizqinastiti/opt/anaconda3/lib/python3.8/site-packages/selenium/webdriver/remote/webelement.py:341: UserWarning: find_element_by_* commands are deprecated. Please use find_element() instead\n",
      "  warnings.warn(\"find_element_by_* commands are deprecated. Please use find_element() instead\")\n"
     ]
    }
   ],
   "source": [
    "# get the link for every transcription\n",
    "\n",
    "links = []\n",
    "\n",
    "link_driver = browser.find_elements_by_class_name(\"sorting_1\")\n",
    "for link in link_driver :\n",
    "    address = link.find_element_by_tag_name(\"a\").get_attribute(\"href\")\n",
    "    sample_name,description = link.text.split(\"\\n\")\n",
    "    links.append((sample_name,description,address))"
   ]
  },
  {
   "cell_type": "code",
   "execution_count": 71,
   "id": "simple-spank",
   "metadata": {},
   "outputs": [
    {
     "data": {
      "text/html": [
       "<div>\n",
       "<style scoped>\n",
       "    .dataframe tbody tr th:only-of-type {\n",
       "        vertical-align: middle;\n",
       "    }\n",
       "\n",
       "    .dataframe tbody tr th {\n",
       "        vertical-align: top;\n",
       "    }\n",
       "\n",
       "    .dataframe thead th {\n",
       "        text-align: right;\n",
       "    }\n",
       "</style>\n",
       "<table border=\"1\" class=\"dataframe\">\n",
       "  <thead>\n",
       "    <tr style=\"text-align: right;\">\n",
       "      <th></th>\n",
       "      <th>sample_name</th>\n",
       "      <th>description</th>\n",
       "      <th>link</th>\n",
       "    </tr>\n",
       "  </thead>\n",
       "  <tbody>\n",
       "    <tr>\n",
       "      <th>0</th>\n",
       "      <td>Adjustment Disorder &amp; Encopresis</td>\n",
       "      <td>The patient was referred due to concerns regar...</td>\n",
       "      <td>https://www.mtsamples.com/site/pages/sample.as...</td>\n",
       "    </tr>\n",
       "    <tr>\n",
       "      <th>1</th>\n",
       "      <td>Agitation - ER Visit</td>\n",
       "      <td>Acute episode of agitation. She was complainin...</td>\n",
       "      <td>https://www.mtsamples.com/site/pages/sample.as...</td>\n",
       "    </tr>\n",
       "    <tr>\n",
       "      <th>2</th>\n",
       "      <td>Asperger Disorder</td>\n",
       "      <td>School reports continuing difficulties with re...</td>\n",
       "      <td>https://www.mtsamples.com/site/pages/sample.as...</td>\n",
       "    </tr>\n",
       "    <tr>\n",
       "      <th>3</th>\n",
       "      <td>Attempted Suicide - Consult</td>\n",
       "      <td>The patient is a 21-year-old Caucasian male, w...</td>\n",
       "      <td>https://www.mtsamples.com/site/pages/sample.as...</td>\n",
       "    </tr>\n",
       "    <tr>\n",
       "      <th>4</th>\n",
       "      <td>Bipolar Affective Disorder - Consult</td>\n",
       "      <td>The patient has a manic disorder, is presently...</td>\n",
       "      <td>https://www.mtsamples.com/site/pages/sample.as...</td>\n",
       "    </tr>\n",
       "  </tbody>\n",
       "</table>\n",
       "</div>"
      ],
      "text/plain": [
       "                            sample_name  \\\n",
       "0      Adjustment Disorder & Encopresis   \n",
       "1                  Agitation - ER Visit   \n",
       "2                     Asperger Disorder   \n",
       "3           Attempted Suicide - Consult   \n",
       "4  Bipolar Affective Disorder - Consult   \n",
       "\n",
       "                                         description  \\\n",
       "0  The patient was referred due to concerns regar...   \n",
       "1  Acute episode of agitation. She was complainin...   \n",
       "2  School reports continuing difficulties with re...   \n",
       "3  The patient is a 21-year-old Caucasian male, w...   \n",
       "4  The patient has a manic disorder, is presently...   \n",
       "\n",
       "                                                link  \n",
       "0  https://www.mtsamples.com/site/pages/sample.as...  \n",
       "1  https://www.mtsamples.com/site/pages/sample.as...  \n",
       "2  https://www.mtsamples.com/site/pages/sample.as...  \n",
       "3  https://www.mtsamples.com/site/pages/sample.as...  \n",
       "4  https://www.mtsamples.com/site/pages/sample.as...  "
      ]
     },
     "execution_count": 71,
     "metadata": {},
     "output_type": "execute_result"
    }
   ],
   "source": [
    "# save links dataframe\n",
    "\n",
    "df_link = pd.DataFrame(links,columns=[\"sample_name\",\"description\",\"link\"])\n",
    "df_link.head()"
   ]
  },
  {
   "cell_type": "code",
   "execution_count": null,
   "id": "attempted-anderson",
   "metadata": {},
   "outputs": [],
   "source": [
    "# get and clean the transcription from every link\n",
    "\n",
    "med_reports = []\n",
    "browser_txt = webdriver.Chrome()\n",
    "\n",
    "for link in df_link['link']:\n",
    "    browser_txt.get(link)\n",
    "    med_text = browser_txt.find_element(By.CLASS_NAME,\"hilightBold\").text\n",
    "    _,content = med_text.split(\"\\n(Medical Transcription Sample Report)\\n\")\n",
    "    med_report = content.replace(\"\\n\\n\",\" \")\n",
    "    med_report = med_report.replace(\"\\n\",\" \")\n",
    "    med_report = med_report.replace(\"See More Samples on Psychiatry / Psychology Go Back to Psychiatry / Psychology View this sample in Blog format on MedicalTranscriptionSamples.com\", \"\")\n",
    "    med_reports.append(med_report)"
   ]
  },
  {
   "cell_type": "code",
   "execution_count": null,
   "id": "warming-bolivia",
   "metadata": {},
   "outputs": [],
   "source": [
    "# save transcription dataframe\n",
    "\n",
    "df_med_reports = pd.DataFrame(med_reports,columns=[\"medical_reports\"])\n",
    "df_med_reports.head()"
   ]
  },
  {
   "cell_type": "code",
   "execution_count": null,
   "id": "lightweight-client",
   "metadata": {},
   "outputs": [],
   "source": [
    "# merge link and transcription dataframe\n",
    "\n",
    "df_merge = pd.merge(link_data, df_med_reports, left_index=True, right_index=True)\n",
    "df_merge.head()"
   ]
  },
  {
   "cell_type": "code",
   "execution_count": null,
   "id": "sporting-wallet",
   "metadata": {},
   "outputs": [],
   "source": [
    "# save merged result as csv\n",
    "\n",
    "df_merge.to_csv(\"psychiatry_psychology_mtsamples.csv\", index=False)"
   ]
  }
 ],
 "metadata": {
  "kernelspec": {
   "display_name": "Python 3",
   "language": "python",
   "name": "python3"
  },
  "language_info": {
   "codemirror_mode": {
    "name": "ipython",
    "version": 3
   },
   "file_extension": ".py",
   "mimetype": "text/x-python",
   "name": "python",
   "nbconvert_exporter": "python",
   "pygments_lexer": "ipython3",
   "version": "3.8.8"
  }
 },
 "nbformat": 4,
 "nbformat_minor": 5
}
