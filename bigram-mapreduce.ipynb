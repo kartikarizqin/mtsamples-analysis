{
 "cells": [
  {
   "cell_type": "code",
   "execution_count": 2,
   "id": "excited-section",
   "metadata": {},
   "outputs": [],
   "source": [
    "import pandas as pd\n",
    "import numpy as np\n",
    "from mrjob.job import MRJob\n",
    "from mrjob.step import MRStep"
   ]
  },
  {
   "cell_type": "code",
   "execution_count": 4,
   "id": "hazardous-scott",
   "metadata": {},
   "outputs": [],
   "source": [
    "data = pd.read_csv(\"psy_cleaned.csv\")"
   ]
  },
  {
   "cell_type": "code",
   "execution_count": 3,
   "id": "german-assault",
   "metadata": {},
   "outputs": [],
   "source": [
    "def mapper(self, line):\n",
    "    line = line.split()\n",
    "    for words in zip(line, line[1:]):\n",
    "        yield list((words[0], words[1])), 1\n",
    "        \n",
    "def reducer(self, bigram, counts):\n",
    "    yield None, (bigram, sum(counts))\n",
    "    \n",
    "def combiner(self, bigram, counts):\n",
    "    yield bigram, sum(counts)\n",
    "    \n",
    "def reducer_top10(self, bigram_counts):\n",
    "    for i in sorted(bigram_count, key=lambda x:x[1], reverse=True)[:10]:\n",
    "        yield i\n",
    "    \n",
    "def steps(self):\n",
    "    return [\n",
    "        MRStep(mapper=self.mapper,\n",
    "              combiner=self.combiner,\n",
    "              reducer=self.reducer),\n",
    "        MRStep(reducer=self.reducer_top10)\n",
    "    ]"
   ]
  },
  {
   "cell_type": "code",
   "execution_count": null,
   "id": "bored-knock",
   "metadata": {},
   "outputs": [],
   "source": [
    "top_bigram = {}\n",
    "\n",
    "for line in data['text']:\n",
    "    bigram = steps(line)\n",
    "    top_bigram.append(bigram)"
   ]
  }
 ],
 "metadata": {
  "kernelspec": {
   "display_name": "Python 3",
   "language": "python",
   "name": "python3"
  },
  "language_info": {
   "codemirror_mode": {
    "name": "ipython",
    "version": 3
   },
   "file_extension": ".py",
   "mimetype": "text/x-python",
   "name": "python",
   "nbconvert_exporter": "python",
   "pygments_lexer": "ipython3",
   "version": "3.8.8"
  }
 },
 "nbformat": 4,
 "nbformat_minor": 5
}
