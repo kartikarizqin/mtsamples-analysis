{
 "cells": [
  {
   "cell_type": "code",
   "execution_count": null,
   "id": "bottom-thomas",
   "metadata": {},
   "outputs": [],
   "source": [
    "import pandas as pd\n",
    "import numpy as np\n",
    "import os\n",
    "from selenium import webdriver\n",
    "from selenium.webdriver.common.by import By\n",
    "\n",
    "import requests, re\n",
    "from bs4 import BeautifulSoup\n",
    "from bs4 import Tag, NavigableString, Comment"
   ]
  },
  {
   "cell_type": "code",
   "execution_count": null,
   "id": "accredited-culture",
   "metadata": {},
   "outputs": [],
   "source": [
    "#run driver\n",
    "\n",
    "browser = webdriver.Chrome()\n",
    "browser.get('https://www.mtsamples.com/site/pages/browse.asp?type=72-Psychiatry%20/%20Psychology')\n",
    "browser.find_element(By.CLASS_NAME, \"custom-select\")\n",
    "browser.find_element_by_xpath(\"/html/body/main/div/div/div[2]/div[3]/div/div[1]/div[2]/label/select/option[4]\").click()"
   ]
  },
  {
   "cell_type": "code",
   "execution_count": null,
   "id": "reliable-oxford",
   "metadata": {},
   "outputs": [],
   "source": [
    "#get the link for every transcription\n",
    "links = []\n",
    "\n",
    "link_driver = browser.find_elements_by_class_name(\"sorting_1\")\n",
    "for link in link_driver :\n",
    "    address = link.find_element_by_tag_name(\"a\").get_attribute(\"href\")\n",
    "    sample_name,description = link.text.split(\"\\n\")\n",
    "    links.append((sample_name,description,address))"
   ]
  },
  {
   "cell_type": "code",
   "execution_count": null,
   "id": "grateful-oxford",
   "metadata": {},
   "outputs": [],
   "source": [
    "# save result to csv file\n",
    "\n",
    "link_data = pd.DataFrame(links,columns=[\"sample_name\",\"description\",\"link\"])\n",
    "link_data.to_csv(\"links.csv\",index=False)"
   ]
  },
  {
   "cell_type": "code",
   "execution_count": null,
   "id": "sustained-fundamentals",
   "metadata": {},
   "outputs": [],
   "source": [
    "link_data.head()"
   ]
  },
  {
   "cell_type": "code",
   "execution_count": null,
   "id": "naked-fitness",
   "metadata": {},
   "outputs": [],
   "source": [
    "# get contents\n",
    "\n",
    "data = pd.read_csv(\"links.csv\",header=0)\n",
    "transcription = [\"\"]*len(links)\n",
    "driver_content = webdriver.Chrome()"
   ]
  },
  {
   "cell_type": "code",
   "execution_count": null,
   "id": "unlimited-homework",
   "metadata": {
    "scrolled": true
   },
   "outputs": [
    {
     "name": "stderr",
     "output_type": "stream",
     "text": [
      "<ipython-input-12-120a2e0ba326>:4: DeprecationWarning: find_element_by_* commands are deprecated. Please use find_element() instead\n",
      "  text = driver_content.find_element_by_class_name(\"hilightBold\").text\n"
     ]
    }
   ],
   "source": [
    "count = 0\n",
    "for link in data['link']:\n",
    "    driver_content.get(link)\n",
    "    text = driver_content.find_element_by_class_name(\"hilightBold\").text\n",
    "    _,result = text\n",
    "    transcription[count] = transcription\n",
    "    count += 1\n",
    "    data['records'] = transcription\n",
    "    # export data\n",
    "    data.to_csv(\"psychiatry_psychology_mtsamples.csv\",index=False)"
   ]
  },
  {
   "cell_type": "code",
   "execution_count": null,
   "id": "prompt-heater",
   "metadata": {},
   "outputs": [],
   "source": [
    "data"
   ]
  },
  {
   "cell_type": "code",
   "execution_count": null,
   "id": "simple-quarterly",
   "metadata": {},
   "outputs": [],
   "source": [
    "data.to_csv(\"psychiatry_psychology_mtsamples.csv\",index=False)"
   ]
  }
 ],
 "metadata": {
  "kernelspec": {
   "display_name": "Python 3",
   "language": "python",
   "name": "python3"
  },
  "language_info": {
   "codemirror_mode": {
    "name": "ipython",
    "version": 3
   },
   "file_extension": ".py",
   "mimetype": "text/x-python",
   "name": "python",
   "nbconvert_exporter": "python",
   "pygments_lexer": "ipython3",
   "version": "3.8.8"
  }
 },
 "nbformat": 4,
 "nbformat_minor": 5
}
