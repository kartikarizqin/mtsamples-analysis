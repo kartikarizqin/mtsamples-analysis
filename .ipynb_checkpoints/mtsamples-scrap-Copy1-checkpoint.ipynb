{
 "cells": [
  {
   "cell_type": "code",
   "execution_count": 1,
   "id": "bottom-thomas",
   "metadata": {},
   "outputs": [],
   "source": [
    "import pandas as pd\n",
    "import numpy as np\n",
    "import os\n",
    "from selenium import webdriver\n",
    "from selenium.webdriver.common.by import By\n",
    "\n",
    "import requests, re\n",
    "from bs4 import BeautifulSoup\n",
    "from bs4 import Tag, NavigableString, Comment"
   ]
  },
  {
   "cell_type": "code",
   "execution_count": 2,
   "id": "accredited-culture",
   "metadata": {},
   "outputs": [
    {
     "name": "stderr",
     "output_type": "stream",
     "text": [
      "<ipython-input-2-5343fc1f87d4>:6: DeprecationWarning: find_element_by_* commands are deprecated. Please use find_element() instead\n",
      "  browser.find_element_by_xpath(\"/html/body/main/div/div/div[2]/div[3]/div/div[1]/div[2]/label/select/option[4]\").click()\n"
     ]
    }
   ],
   "source": [
    "#run driver\n",
    "\n",
    "browser = webdriver.Chrome()\n",
    "browser.get('https://www.mtsamples.com/site/pages/browse.asp?type=72-Psychiatry%20/%20Psychology')\n",
    "browser.find_element(By.CLASS_NAME, \"custom-select\")\n",
    "browser.find_element_by_xpath(\"/html/body/main/div/div/div[2]/div[3]/div/div[1]/div[2]/label/select/option[4]\").click()"
   ]
  },
  {
   "cell_type": "code",
   "execution_count": 3,
   "id": "reliable-oxford",
   "metadata": {},
   "outputs": [
    {
     "name": "stderr",
     "output_type": "stream",
     "text": [
      "<ipython-input-3-a52ae7007518>:4: DeprecationWarning: find_elements_by_* commands are deprecated. Please use find_elements() instead\n",
      "  link_driver = browser.find_elements_by_class_name(\"sorting_1\")\n",
      "/Users/kartikarizqinastiti/opt/anaconda3/lib/python3.8/site-packages/selenium/webdriver/remote/webelement.py:341: UserWarning: find_element_by_* commands are deprecated. Please use find_element() instead\n",
      "  warnings.warn(\"find_element_by_* commands are deprecated. Please use find_element() instead\")\n"
     ]
    }
   ],
   "source": [
    "#get the link for every transcription\n",
    "links = []\n",
    "\n",
    "link_driver = browser.find_elements_by_class_name(\"sorting_1\")\n",
    "for link in link_driver :\n",
    "    address = link.find_element_by_tag_name(\"a\").get_attribute(\"href\")\n",
    "    sample_name,description = link.text.split(\"\\n\")\n",
    "    links.append((sample_name,description,address))"
   ]
  },
  {
   "cell_type": "code",
   "execution_count": 4,
   "id": "little-semiconductor",
   "metadata": {},
   "outputs": [
    {
     "data": {
      "text/plain": [
       "[('Adjustment Disorder & Encopresis',\n",
       "  'The patient was referred due to concerns regarding behavioral acting out as well as encopresis.',\n",
       "  'https://www.mtsamples.com/site/pages/sample.asp?Type=72-Psychiatry%20/%20Psychology&Sample=1291-Adjustment%20Disorder%20&%20Encopresis'),\n",
       " ('Agitation - ER Visit',\n",
       "  'Acute episode of agitation. She was complaining that she felt she might have been poisoned at her care facility.',\n",
       "  'https://www.mtsamples.com/site/pages/sample.asp?Type=72-Psychiatry%20/%20Psychology&Sample=2758-Agitation%20-%20ER%20Visit'),\n",
       " ('Asperger Disorder',\n",
       "  'School reports continuing difficulties with repetitive questioning, obsession with cleanness on a daily basis, concerned about his inability to relate this well in the classroom. Asperger disorder. Obsessive compulsive disorder.',\n",
       "  'https://www.mtsamples.com/site/pages/sample.asp?Type=72-Psychiatry%20/%20Psychology&Sample=1431-Asperger%20Disorder'),\n",
       " ('Attempted Suicide - Consult',\n",
       "  'The patient is a 21-year-old Caucasian male, who attempted suicide by trying to jump from a moving car, which was being driven by his mother.',\n",
       "  'https://www.mtsamples.com/site/pages/sample.asp?Type=72-Psychiatry%20/%20Psychology&Sample=2635-Attempted%20Suicide%20-%20Consult'),\n",
       " ('Bipolar Affective Disorder - Consult',\n",
       "  'The patient has a manic disorder, is presently psychotic with flight of ideas, tangential speech, rapid pressured speech and behavior, impulsive behavior. Bipolar affective disorder, manic state. Rule out depression.',\n",
       "  'https://www.mtsamples.com/site/pages/sample.asp?Type=72-Psychiatry%20/%20Psychology&Sample=2633-Bipolar%20Affective%20Disorder%20-%20Consult'),\n",
       " ('Conversion Disorder',\n",
       "  'The patient was referred after he was hospitalized for what eventually was diagnosed as a conversion disorder.',\n",
       "  'https://www.mtsamples.com/site/pages/sample.asp?Type=72-Psychiatry%20/%20Psychology&Sample=1292-Conversion%20Disorder'),\n",
       " ('Falls - Discharge Summary',\n",
       "  'Falls at home. Anxiety and depression. The patient had been increasingly anxious and freely admitted that she was depressed at home.',\n",
       "  'https://www.mtsamples.com/site/pages/sample.asp?Type=72-Psychiatry%20/%20Psychology&Sample=2792-Falls%20-%20Discharge%20Summary'),\n",
       " (\"Huntington's Disease - Consult\",\n",
       "  'This is a 69-year-old white woman with Huntington disease, who presents with the third suicide attempt in the past two months.',\n",
       "  'https://www.mtsamples.com/site/pages/sample.asp?Type=72-Psychiatry%20/%20Psychology&Sample=1268-Huntington%27s%20Disease%20-%20Consult'),\n",
       " ('Major Depressive Disorder - IME Consult',\n",
       "  'Patient presented with significant muscle tremor, constant headaches, excessive nervousness, poor concentration, and poor ability to focus.',\n",
       "  'https://www.mtsamples.com/site/pages/sample.asp?Type=72-Psychiatry%20/%20Psychology&Sample=952-Major%20Depressive%20Disorder%20-%20IME%20Consult'),\n",
       " ('Mental Status Changes - Consult',\n",
       "  'Mental status changes after a fall. She sustained a concussion with postconcussive symptoms and syndrome that has resolved.',\n",
       "  'https://www.mtsamples.com/site/pages/sample.asp?Type=72-Psychiatry%20/%20Psychology&Sample=2536-Mental%20Status%20Changes%20-%20Consult'),\n",
       " ('Mental Status Evaluation',\n",
       "  'Comprehensive Mental Status Evaluation for the purpose of assisting in the determination of eligibility for Disability',\n",
       "  'https://www.mtsamples.com/site/pages/sample.asp?Type=72-Psychiatry%20/%20Psychology&Sample=75-Mental%20Status%20Evaluation'),\n",
       " ('Neurobehavioral Assessment',\n",
       "  'Bender-Gestalt Neurological Battery and Beck testing.',\n",
       "  'https://www.mtsamples.com/site/pages/sample.asp?Type=72-Psychiatry%20/%20Psychology&Sample=953-Neurobehavioral%20Assessment'),\n",
       " ('Neuropsychological Evaluation',\n",
       "  'Patient demonstrated mild cognitive deficits on a neuropsychological screening evaluation during a followup appointment for stroke.',\n",
       "  'https://www.mtsamples.com/site/pages/sample.asp?Type=72-Psychiatry%20/%20Psychology&Sample=1204-Neuropsychological%20Evaluation'),\n",
       " ('Neuropsychological Evaluation - 1',\n",
       "  'Sample for Neuropsychological Evaluation',\n",
       "  'https://www.mtsamples.com/site/pages/sample.asp?Type=72-Psychiatry%20/%20Psychology&Sample=88-Neuropsychological%20Evaluation%20-%201'),\n",
       " ('Neuropsychological Evaluation - 2',\n",
       "  'A neuropsychological evaluation to assess neuropsychological factors, clarify areas of strength and weakness, and to assist in therapeutic program planning in light of episodes of syncope.',\n",
       "  'https://www.mtsamples.com/site/pages/sample.asp?Type=72-Psychiatry%20/%20Psychology&Sample=1138-Neuropsychological%20Evaluation%20-%202'),\n",
       " ('Neuropsychological Evaluation - 3',\n",
       "  'Patient was referred for a neuropsychological evaluation after a recent hospitalization for possible transient ischemic aphasia. Two years ago, a similar prolonged confusional spell was reported as well. A comprehensive evaluation was requested to assess current cognitive functioning and assist with diagnostic decisions and treatment planning.',\n",
       "  'https://www.mtsamples.com/site/pages/sample.asp?Type=72-Psychiatry%20/%20Psychology&Sample=1692-Neuropsychological%20Evaluation%20-%203'),\n",
       " ('Neuropsychological Evaluation - 4',\n",
       "  'The patient is a 58-year-old African-American right-handed female with 16 years of education who was referred for a neuropsychological evaluation by Dr. X. A comprehensive evaluation was requested to assess current cognitive functioning and assist with diagnostic decisions and treatment planning.',\n",
       "  'https://www.mtsamples.com/site/pages/sample.asp?Type=72-Psychiatry%20/%20Psychology&Sample=1693-Neuropsychological%20Evaluation%20-%204'),\n",
       " ('Neuropsychological Evaluation - 5',\n",
       "  'The patient comes in for a neurology consultation regarding her difficult headaches, tunnel vision, and dizziness.',\n",
       "  'https://www.mtsamples.com/site/pages/sample.asp?Type=72-Psychiatry%20/%20Psychology&Sample=1141-Neuropsychological%20Evaluation%20-%205'),\n",
       " ('Pseudoseizures',\n",
       "  'The patient was referred due to a recent admission for pseudoseizures.',\n",
       "  'https://www.mtsamples.com/site/pages/sample.asp?Type=72-Psychiatry%20/%20Psychology&Sample=1293-Pseudoseizures'),\n",
       " ('Psych Consult - Alcohol Withdrawal',\n",
       "  'Psychiatric consultation for alcohol withdrawal and dependance.',\n",
       "  'https://www.mtsamples.com/site/pages/sample.asp?Type=72-Psychiatry%20/%20Psychology&Sample=100-Psych%20Consult%20-%20Alcohol%20Withdrawal'),\n",
       " ('Psych Consult - Altered Mental Status',\n",
       "  'Psychiatric Consultation of patient with altered mental status.',\n",
       "  'https://www.mtsamples.com/site/pages/sample.asp?Type=72-Psychiatry%20/%20Psychology&Sample=97-Psych%20Consult%20-%20Altered%20Mental%20Status'),\n",
       " ('Psych Consult - Anxiety',\n",
       "  'Psychiatric Consultation of patient with anxiety.',\n",
       "  'https://www.mtsamples.com/site/pages/sample.asp?Type=72-Psychiatry%20/%20Psychology&Sample=98-Psych%20Consult%20-%20Anxiety'),\n",
       " ('Psych Consult - Assaultive Behavior',\n",
       "  'The patient is admitted on a 72-hour involuntary treatment for dangerousness to others after repeated assaultive behaviors at Hospital Emergency Room, the morning prior to admission.',\n",
       "  'https://www.mtsamples.com/site/pages/sample.asp?Type=72-Psychiatry%20/%20Psychology&Sample=1550-Psych%20Consult%20-%20Assaultive%20Behavior'),\n",
       " ('Psych Consult - Bipolar Affective Disorder',\n",
       "  'A 41-year-old African-American male with a history of bipolar affective disorder, was admitted for noncompliance to the outpatient treatment and increased mood lability.',\n",
       "  'https://www.mtsamples.com/site/pages/sample.asp?Type=72-Psychiatry%20/%20Psychology&Sample=1546-Psych%20Consult%20-%20Bipolar%20Affective%20Disorder'),\n",
       " ('Psych Consult - Dementia',\n",
       "  'Psychiatric Consultation of patient with dementia.',\n",
       "  'https://www.mtsamples.com/site/pages/sample.asp?Type=72-Psychiatry%20/%20Psychology&Sample=93-Psych%20Consult%20-%20Dementia'),\n",
       " ('Psych Consult - Depression - 1',\n",
       "  'Psychiatric Consultation of patient with recurring depression.',\n",
       "  'https://www.mtsamples.com/site/pages/sample.asp?Type=72-Psychiatry%20/%20Psychology&Sample=215-Psych%20Consult%20-%20Depression%20-%201'),\n",
       " ('Psych Consult - Depression - 2',\n",
       "  'Psychiatric Consultation of patient with major depression disorder.',\n",
       "  'https://www.mtsamples.com/site/pages/sample.asp?Type=72-Psychiatry%20/%20Psychology&Sample=92-Psych%20Consult%20-%20Depression%20-%202'),\n",
       " ('Psych Consult - Lethargy',\n",
       "  'Psychiatric consultation of patient with lethargy.',\n",
       "  'https://www.mtsamples.com/site/pages/sample.asp?Type=72-Psychiatry%20/%20Psychology&Sample=95-Psych%20Consult%20-%20Lethargy'),\n",
       " ('Psych Consult - Pain Meds',\n",
       "  'Psychiatric consultation for management of pain medications.',\n",
       "  'https://www.mtsamples.com/site/pages/sample.asp?Type=72-Psychiatry%20/%20Psychology&Sample=94-Psych%20Consult%20-%20Pain%20Meds'),\n",
       " ('Psych Consult - Paranoia',\n",
       "  'A 30-year-old white male with a history of schizophrenia, chronic paranoid, was admitted for increasing mood lability, paranoia, and agitation.',\n",
       "  'https://www.mtsamples.com/site/pages/sample.asp?Type=72-Psychiatry%20/%20Psychology&Sample=1547-Psych%20Consult%20-%20Paranoia'),\n",
       " ('Psych Consult - Psychosis',\n",
       "  'Patient with a history of PTSD, depression, and substance abuse.',\n",
       "  'https://www.mtsamples.com/site/pages/sample.asp?Type=72-Psychiatry%20/%20Psychology&Sample=1551-Psych%20Consult%20-%20Psychosis'),\n",
       " ('Psych Consult - Psychosis - 1',\n",
       "  \"The patient was found by outpatient case manager to be unresponsive and incontinent of urine and feces at his father's home.\",\n",
       "  'https://www.mtsamples.com/site/pages/sample.asp?Type=72-Psychiatry%20/%20Psychology&Sample=1552-Psych%20Consult%20-%20Psychosis%20-%201'),\n",
       " ('Psych Consult - Schizophrenia',\n",
       "  'A 45-year-old white male with a history of schizophrenia and AIDS. He was admitted for disorganized and assaultive behaviors while off all medications for the last six months.',\n",
       "  'https://www.mtsamples.com/site/pages/sample.asp?Type=72-Psychiatry%20/%20Psychology&Sample=1549-Psych%20Consult%20-%20Schizophrenia'),\n",
       " ('Psych Consult - Substance abuse',\n",
       "  'Psychiatric consultation for substance abuse.',\n",
       "  'https://www.mtsamples.com/site/pages/sample.asp?Type=72-Psychiatry%20/%20Psychology&Sample=99-Psych%20Consult%20-%20Substance%20abuse'),\n",
       " ('Psych H&P - 1',\n",
       "  'Psychiatric History and Physical - Patient with major depression',\n",
       "  'https://www.mtsamples.com/site/pages/sample.asp?Type=72-Psychiatry%20/%20Psychology&Sample=91-Psych%20H&P%20-%201'),\n",
       " ('Psych H&P - 2',\n",
       "  'Psychiatric History and Physical - Patient with schizoaffective disorder.',\n",
       "  'https://www.mtsamples.com/site/pages/sample.asp?Type=72-Psychiatry%20/%20Psychology&Sample=101-Psych%20H&P%20-%202'),\n",
       " ('Psychiatric Assessment',\n",
       "  'Psychiatric Assessment of a patient with bipolar and anxiety disorder having posttraumatic stress syndrome.',\n",
       "  'https://www.mtsamples.com/site/pages/sample.asp?Type=72-Psychiatry%20/%20Psychology&Sample=205-Psychiatric%20Assessment'),\n",
       " ('Psychiatric Consult',\n",
       "  'Psychiatric consultation has been requested as the patient has been noncompliant with treatment, leave the unit, does not return when requested, and it was unclear as to whether this is secondary to confusion or willful behavior.',\n",
       "  'https://www.mtsamples.com/site/pages/sample.asp?Type=72-Psychiatry%20/%20Psychology&Sample=2515-Psychiatric%20Consult'),\n",
       " ('Psychiatric Consult - 1',\n",
       "  'Bipolar disorder, apparently stable on medications. Mild organic brain syndrome, presumably secondary to her chronic inhalant, paint, abuse.',\n",
       "  'https://www.mtsamples.com/site/pages/sample.asp?Type=72-Psychiatry%20/%20Psychology&Sample=2516-Psychiatric%20Consult%20-%201'),\n",
       " ('Psychiatric Consult - 2',\n",
       "  'She was admitted following an overdose of citalopram and warfarin. The patient has had increasing depression and has been under stress as a result of dissolution of her second marriage.',\n",
       "  'https://www.mtsamples.com/site/pages/sample.asp?Type=72-Psychiatry%20/%20Psychology&Sample=2517-Psychiatric%20Consult%20-%202'),\n",
       " ('Psychiatric Discharge Summary',\n",
       "  'The patient was discharged by court as a voluntary drop by prosecution.',\n",
       "  'https://www.mtsamples.com/site/pages/sample.asp?Type=72-Psychiatry%20/%20Psychology&Sample=1548-Psychiatric%20Discharge%20Summary'),\n",
       " ('Psychiatric Discharge Summary - 1',\n",
       "  'Discharge summary of a patient with mood swings and oppositional and defiant behavior.',\n",
       "  'https://www.mtsamples.com/site/pages/sample.asp?Type=72-Psychiatry%20/%20Psychology&Sample=85-Psychiatric%20Discharge%20Summary%20-%201'),\n",
       " ('Psychiatric Discharge Summary - 2',\n",
       "  'Discharge summary of a patient with depression and high risk behavior.',\n",
       "  'https://www.mtsamples.com/site/pages/sample.asp?Type=72-Psychiatry%20/%20Psychology&Sample=86-Psychiatric%20Discharge%20Summary%20-%202'),\n",
       " ('Psychiatric Evaluation - 1',\n",
       "  'Patient with a long history of depression and attention deficits.',\n",
       "  'https://www.mtsamples.com/site/pages/sample.asp?Type=72-Psychiatry%20/%20Psychology&Sample=80-Psychiatric%20Evaluation%20-%201'),\n",
       " ('Psychiatric Evaluation - 2',\n",
       "  'Psychiatric evaluation for major depression without psychotic features.',\n",
       "  'https://www.mtsamples.com/site/pages/sample.asp?Type=72-Psychiatry%20/%20Psychology&Sample=81-Psychiatric%20Evaluation%20-%202'),\n",
       " ('Psychiatric Evaluation - 3',\n",
       "  'Psychiatric evaluation for ADHD, combined type.',\n",
       "  'https://www.mtsamples.com/site/pages/sample.asp?Type=72-Psychiatry%20/%20Psychology&Sample=82-Psychiatric%20Evaluation%20-%203'),\n",
       " ('Psychiatric Evaluation - 4',\n",
       "  'Admission Psychiatric Evaluation',\n",
       "  'https://www.mtsamples.com/site/pages/sample.asp?Type=72-Psychiatry%20/%20Psychology&Sample=84-Psychiatric%20Evaluation%20-%204'),\n",
       " ('Psychological Evaluation',\n",
       "  'Comprehensive Clinical Psychological Evaluation as part of a Disability Determination action.',\n",
       "  'https://www.mtsamples.com/site/pages/sample.asp?Type=72-Psychiatry%20/%20Psychology&Sample=209-Psychological%20Evaluation'),\n",
       " ('Psychological Testing',\n",
       "  'Psychological Testing for ADHD',\n",
       "  'https://www.mtsamples.com/site/pages/sample.asp?Type=72-Psychiatry%20/%20Psychology&Sample=83-Psychological%20Testing'),\n",
       " ('Psychosocial Eval - Donor',\n",
       "  'Psychosocial evaluation of kidney donor. Questions - Answers',\n",
       "  'https://www.mtsamples.com/site/pages/sample.asp?Type=72-Psychiatry%20/%20Psychology&Sample=90-Psychosocial%20Eval%20-%20Donor'),\n",
       " ('Psychosocial Eval - Donor - 1',\n",
       "  'Psychosocial donor evaluation. Following questions are mostly involved in a psychosocial donor evaluation.',\n",
       "  'https://www.mtsamples.com/site/pages/sample.asp?Type=72-Psychiatry%20/%20Psychology&Sample=1711-Psychosocial%20Eval%20-%20Donor%20-%201'),\n",
       " ('Psychosocial Eval for Kidney Transplant',\n",
       "  'Psychosocial Evaluation of patient before kidney transplant.',\n",
       "  'https://www.mtsamples.com/site/pages/sample.asp?Type=72-Psychiatry%20/%20Psychology&Sample=89-Psychosocial%20Eval%20for%20Kidney%20Transplant'),\n",
       " ('Recheck of ADHD Meds',\n",
       "  'A 6-year-old male with attention deficit hyperactivity disorder, doing fairly well with the Adderall.',\n",
       "  'https://www.mtsamples.com/site/pages/sample.asp?Type=72-Psychiatry%20/%20Psychology&Sample=442-Recheck%20of%20ADHD%20Meds')]"
      ]
     },
     "execution_count": 4,
     "metadata": {},
     "output_type": "execute_result"
    }
   ],
   "source": [
    "links"
   ]
  },
  {
   "cell_type": "code",
   "execution_count": 5,
   "id": "studied-louisville",
   "metadata": {},
   "outputs": [
    {
     "data": {
      "text/plain": [
       "list"
      ]
     },
     "execution_count": 5,
     "metadata": {},
     "output_type": "execute_result"
    }
   ],
   "source": [
    "type(links)"
   ]
  },
  {
   "cell_type": "code",
   "execution_count": 6,
   "id": "simple-spank",
   "metadata": {},
   "outputs": [],
   "source": [
    "link_data = pd.DataFrame(links,columns=[\"sample_name\",\"description\",\"link\"])"
   ]
  },
  {
   "cell_type": "code",
   "execution_count": 7,
   "id": "verbal-station",
   "metadata": {},
   "outputs": [],
   "source": [
    "link_data.to_csv(\"link_data.csv\",index=False)"
   ]
  },
  {
   "cell_type": "code",
   "execution_count": 8,
   "id": "greater-valentine",
   "metadata": {},
   "outputs": [
    {
     "data": {
      "text/html": [
       "<div>\n",
       "<style scoped>\n",
       "    .dataframe tbody tr th:only-of-type {\n",
       "        vertical-align: middle;\n",
       "    }\n",
       "\n",
       "    .dataframe tbody tr th {\n",
       "        vertical-align: top;\n",
       "    }\n",
       "\n",
       "    .dataframe thead th {\n",
       "        text-align: right;\n",
       "    }\n",
       "</style>\n",
       "<table border=\"1\" class=\"dataframe\">\n",
       "  <thead>\n",
       "    <tr style=\"text-align: right;\">\n",
       "      <th></th>\n",
       "      <th>sample_name</th>\n",
       "      <th>description</th>\n",
       "      <th>link</th>\n",
       "    </tr>\n",
       "  </thead>\n",
       "  <tbody>\n",
       "    <tr>\n",
       "      <th>0</th>\n",
       "      <td>Adjustment Disorder &amp; Encopresis</td>\n",
       "      <td>The patient was referred due to concerns regar...</td>\n",
       "      <td>https://www.mtsamples.com/site/pages/sample.as...</td>\n",
       "    </tr>\n",
       "    <tr>\n",
       "      <th>1</th>\n",
       "      <td>Agitation - ER Visit</td>\n",
       "      <td>Acute episode of agitation. She was complainin...</td>\n",
       "      <td>https://www.mtsamples.com/site/pages/sample.as...</td>\n",
       "    </tr>\n",
       "    <tr>\n",
       "      <th>2</th>\n",
       "      <td>Asperger Disorder</td>\n",
       "      <td>School reports continuing difficulties with re...</td>\n",
       "      <td>https://www.mtsamples.com/site/pages/sample.as...</td>\n",
       "    </tr>\n",
       "    <tr>\n",
       "      <th>3</th>\n",
       "      <td>Attempted Suicide - Consult</td>\n",
       "      <td>The patient is a 21-year-old Caucasian male, w...</td>\n",
       "      <td>https://www.mtsamples.com/site/pages/sample.as...</td>\n",
       "    </tr>\n",
       "    <tr>\n",
       "      <th>4</th>\n",
       "      <td>Bipolar Affective Disorder - Consult</td>\n",
       "      <td>The patient has a manic disorder, is presently...</td>\n",
       "      <td>https://www.mtsamples.com/site/pages/sample.as...</td>\n",
       "    </tr>\n",
       "  </tbody>\n",
       "</table>\n",
       "</div>"
      ],
      "text/plain": [
       "                            sample_name  \\\n",
       "0      Adjustment Disorder & Encopresis   \n",
       "1                  Agitation - ER Visit   \n",
       "2                     Asperger Disorder   \n",
       "3           Attempted Suicide - Consult   \n",
       "4  Bipolar Affective Disorder - Consult   \n",
       "\n",
       "                                         description  \\\n",
       "0  The patient was referred due to concerns regar...   \n",
       "1  Acute episode of agitation. She was complainin...   \n",
       "2  School reports continuing difficulties with re...   \n",
       "3  The patient is a 21-year-old Caucasian male, w...   \n",
       "4  The patient has a manic disorder, is presently...   \n",
       "\n",
       "                                                link  \n",
       "0  https://www.mtsamples.com/site/pages/sample.as...  \n",
       "1  https://www.mtsamples.com/site/pages/sample.as...  \n",
       "2  https://www.mtsamples.com/site/pages/sample.as...  \n",
       "3  https://www.mtsamples.com/site/pages/sample.as...  \n",
       "4  https://www.mtsamples.com/site/pages/sample.as...  "
      ]
     },
     "execution_count": 8,
     "metadata": {},
     "output_type": "execute_result"
    }
   ],
   "source": [
    "link_data.head()"
   ]
  },
  {
   "cell_type": "code",
   "execution_count": 9,
   "id": "fundamental-horizontal",
   "metadata": {},
   "outputs": [],
   "source": [
    "psy_url_list = list(link_data[\"link\"])"
   ]
  },
  {
   "cell_type": "code",
   "execution_count": 10,
   "id": "blank-arrest",
   "metadata": {
    "scrolled": true
   },
   "outputs": [
    {
     "data": {
      "text/plain": [
       "['https://www.mtsamples.com/site/pages/sample.asp?Type=72-Psychiatry%20/%20Psychology&Sample=1291-Adjustment%20Disorder%20&%20Encopresis',\n",
       " 'https://www.mtsamples.com/site/pages/sample.asp?Type=72-Psychiatry%20/%20Psychology&Sample=2758-Agitation%20-%20ER%20Visit',\n",
       " 'https://www.mtsamples.com/site/pages/sample.asp?Type=72-Psychiatry%20/%20Psychology&Sample=1431-Asperger%20Disorder',\n",
       " 'https://www.mtsamples.com/site/pages/sample.asp?Type=72-Psychiatry%20/%20Psychology&Sample=2635-Attempted%20Suicide%20-%20Consult',\n",
       " 'https://www.mtsamples.com/site/pages/sample.asp?Type=72-Psychiatry%20/%20Psychology&Sample=2633-Bipolar%20Affective%20Disorder%20-%20Consult',\n",
       " 'https://www.mtsamples.com/site/pages/sample.asp?Type=72-Psychiatry%20/%20Psychology&Sample=1292-Conversion%20Disorder',\n",
       " 'https://www.mtsamples.com/site/pages/sample.asp?Type=72-Psychiatry%20/%20Psychology&Sample=2792-Falls%20-%20Discharge%20Summary',\n",
       " 'https://www.mtsamples.com/site/pages/sample.asp?Type=72-Psychiatry%20/%20Psychology&Sample=1268-Huntington%27s%20Disease%20-%20Consult',\n",
       " 'https://www.mtsamples.com/site/pages/sample.asp?Type=72-Psychiatry%20/%20Psychology&Sample=952-Major%20Depressive%20Disorder%20-%20IME%20Consult',\n",
       " 'https://www.mtsamples.com/site/pages/sample.asp?Type=72-Psychiatry%20/%20Psychology&Sample=2536-Mental%20Status%20Changes%20-%20Consult',\n",
       " 'https://www.mtsamples.com/site/pages/sample.asp?Type=72-Psychiatry%20/%20Psychology&Sample=75-Mental%20Status%20Evaluation',\n",
       " 'https://www.mtsamples.com/site/pages/sample.asp?Type=72-Psychiatry%20/%20Psychology&Sample=953-Neurobehavioral%20Assessment',\n",
       " 'https://www.mtsamples.com/site/pages/sample.asp?Type=72-Psychiatry%20/%20Psychology&Sample=1204-Neuropsychological%20Evaluation',\n",
       " 'https://www.mtsamples.com/site/pages/sample.asp?Type=72-Psychiatry%20/%20Psychology&Sample=88-Neuropsychological%20Evaluation%20-%201',\n",
       " 'https://www.mtsamples.com/site/pages/sample.asp?Type=72-Psychiatry%20/%20Psychology&Sample=1138-Neuropsychological%20Evaluation%20-%202',\n",
       " 'https://www.mtsamples.com/site/pages/sample.asp?Type=72-Psychiatry%20/%20Psychology&Sample=1692-Neuropsychological%20Evaluation%20-%203',\n",
       " 'https://www.mtsamples.com/site/pages/sample.asp?Type=72-Psychiatry%20/%20Psychology&Sample=1693-Neuropsychological%20Evaluation%20-%204',\n",
       " 'https://www.mtsamples.com/site/pages/sample.asp?Type=72-Psychiatry%20/%20Psychology&Sample=1141-Neuropsychological%20Evaluation%20-%205',\n",
       " 'https://www.mtsamples.com/site/pages/sample.asp?Type=72-Psychiatry%20/%20Psychology&Sample=1293-Pseudoseizures',\n",
       " 'https://www.mtsamples.com/site/pages/sample.asp?Type=72-Psychiatry%20/%20Psychology&Sample=100-Psych%20Consult%20-%20Alcohol%20Withdrawal',\n",
       " 'https://www.mtsamples.com/site/pages/sample.asp?Type=72-Psychiatry%20/%20Psychology&Sample=97-Psych%20Consult%20-%20Altered%20Mental%20Status',\n",
       " 'https://www.mtsamples.com/site/pages/sample.asp?Type=72-Psychiatry%20/%20Psychology&Sample=98-Psych%20Consult%20-%20Anxiety',\n",
       " 'https://www.mtsamples.com/site/pages/sample.asp?Type=72-Psychiatry%20/%20Psychology&Sample=1550-Psych%20Consult%20-%20Assaultive%20Behavior',\n",
       " 'https://www.mtsamples.com/site/pages/sample.asp?Type=72-Psychiatry%20/%20Psychology&Sample=1546-Psych%20Consult%20-%20Bipolar%20Affective%20Disorder',\n",
       " 'https://www.mtsamples.com/site/pages/sample.asp?Type=72-Psychiatry%20/%20Psychology&Sample=93-Psych%20Consult%20-%20Dementia',\n",
       " 'https://www.mtsamples.com/site/pages/sample.asp?Type=72-Psychiatry%20/%20Psychology&Sample=215-Psych%20Consult%20-%20Depression%20-%201',\n",
       " 'https://www.mtsamples.com/site/pages/sample.asp?Type=72-Psychiatry%20/%20Psychology&Sample=92-Psych%20Consult%20-%20Depression%20-%202',\n",
       " 'https://www.mtsamples.com/site/pages/sample.asp?Type=72-Psychiatry%20/%20Psychology&Sample=95-Psych%20Consult%20-%20Lethargy',\n",
       " 'https://www.mtsamples.com/site/pages/sample.asp?Type=72-Psychiatry%20/%20Psychology&Sample=94-Psych%20Consult%20-%20Pain%20Meds',\n",
       " 'https://www.mtsamples.com/site/pages/sample.asp?Type=72-Psychiatry%20/%20Psychology&Sample=1547-Psych%20Consult%20-%20Paranoia',\n",
       " 'https://www.mtsamples.com/site/pages/sample.asp?Type=72-Psychiatry%20/%20Psychology&Sample=1551-Psych%20Consult%20-%20Psychosis',\n",
       " 'https://www.mtsamples.com/site/pages/sample.asp?Type=72-Psychiatry%20/%20Psychology&Sample=1552-Psych%20Consult%20-%20Psychosis%20-%201',\n",
       " 'https://www.mtsamples.com/site/pages/sample.asp?Type=72-Psychiatry%20/%20Psychology&Sample=1549-Psych%20Consult%20-%20Schizophrenia',\n",
       " 'https://www.mtsamples.com/site/pages/sample.asp?Type=72-Psychiatry%20/%20Psychology&Sample=99-Psych%20Consult%20-%20Substance%20abuse',\n",
       " 'https://www.mtsamples.com/site/pages/sample.asp?Type=72-Psychiatry%20/%20Psychology&Sample=91-Psych%20H&P%20-%201',\n",
       " 'https://www.mtsamples.com/site/pages/sample.asp?Type=72-Psychiatry%20/%20Psychology&Sample=101-Psych%20H&P%20-%202',\n",
       " 'https://www.mtsamples.com/site/pages/sample.asp?Type=72-Psychiatry%20/%20Psychology&Sample=205-Psychiatric%20Assessment',\n",
       " 'https://www.mtsamples.com/site/pages/sample.asp?Type=72-Psychiatry%20/%20Psychology&Sample=2515-Psychiatric%20Consult',\n",
       " 'https://www.mtsamples.com/site/pages/sample.asp?Type=72-Psychiatry%20/%20Psychology&Sample=2516-Psychiatric%20Consult%20-%201',\n",
       " 'https://www.mtsamples.com/site/pages/sample.asp?Type=72-Psychiatry%20/%20Psychology&Sample=2517-Psychiatric%20Consult%20-%202',\n",
       " 'https://www.mtsamples.com/site/pages/sample.asp?Type=72-Psychiatry%20/%20Psychology&Sample=1548-Psychiatric%20Discharge%20Summary',\n",
       " 'https://www.mtsamples.com/site/pages/sample.asp?Type=72-Psychiatry%20/%20Psychology&Sample=85-Psychiatric%20Discharge%20Summary%20-%201',\n",
       " 'https://www.mtsamples.com/site/pages/sample.asp?Type=72-Psychiatry%20/%20Psychology&Sample=86-Psychiatric%20Discharge%20Summary%20-%202',\n",
       " 'https://www.mtsamples.com/site/pages/sample.asp?Type=72-Psychiatry%20/%20Psychology&Sample=80-Psychiatric%20Evaluation%20-%201',\n",
       " 'https://www.mtsamples.com/site/pages/sample.asp?Type=72-Psychiatry%20/%20Psychology&Sample=81-Psychiatric%20Evaluation%20-%202',\n",
       " 'https://www.mtsamples.com/site/pages/sample.asp?Type=72-Psychiatry%20/%20Psychology&Sample=82-Psychiatric%20Evaluation%20-%203',\n",
       " 'https://www.mtsamples.com/site/pages/sample.asp?Type=72-Psychiatry%20/%20Psychology&Sample=84-Psychiatric%20Evaluation%20-%204',\n",
       " 'https://www.mtsamples.com/site/pages/sample.asp?Type=72-Psychiatry%20/%20Psychology&Sample=209-Psychological%20Evaluation',\n",
       " 'https://www.mtsamples.com/site/pages/sample.asp?Type=72-Psychiatry%20/%20Psychology&Sample=83-Psychological%20Testing',\n",
       " 'https://www.mtsamples.com/site/pages/sample.asp?Type=72-Psychiatry%20/%20Psychology&Sample=90-Psychosocial%20Eval%20-%20Donor',\n",
       " 'https://www.mtsamples.com/site/pages/sample.asp?Type=72-Psychiatry%20/%20Psychology&Sample=1711-Psychosocial%20Eval%20-%20Donor%20-%201',\n",
       " 'https://www.mtsamples.com/site/pages/sample.asp?Type=72-Psychiatry%20/%20Psychology&Sample=89-Psychosocial%20Eval%20for%20Kidney%20Transplant',\n",
       " 'https://www.mtsamples.com/site/pages/sample.asp?Type=72-Psychiatry%20/%20Psychology&Sample=442-Recheck%20of%20ADHD%20Meds']"
      ]
     },
     "execution_count": 10,
     "metadata": {},
     "output_type": "execute_result"
    }
   ],
   "source": [
    "psy_url_list"
   ]
  },
  {
   "cell_type": "code",
   "execution_count": 11,
   "id": "eastern-cameroon",
   "metadata": {},
   "outputs": [
    {
     "data": {
      "text/plain": [
       "53"
      ]
     },
     "execution_count": 11,
     "metadata": {},
     "output_type": "execute_result"
    }
   ],
   "source": [
    "len(psy_url_list)"
   ]
  },
  {
   "cell_type": "code",
   "execution_count": 36,
   "id": "turned-graphics",
   "metadata": {},
   "outputs": [],
   "source": [
    "browser_txt = webdriver.Chrome()\n",
    "browser_txt.get('https://mtsamples.com/site/pages/sample.asp?Type=72-Psychiatry%20/%20Psychology&Sample=1291-Adjustment%20Disorder%20&%20Encopresis')"
   ]
  },
  {
   "cell_type": "code",
   "execution_count": 37,
   "id": "sufficient-adrian",
   "metadata": {},
   "outputs": [
    {
     "name": "stderr",
     "output_type": "stream",
     "text": [
      "<ipython-input-37-546a4a20a33a>:1: DeprecationWarning: find_element_by_* commands are deprecated. Please use find_element() instead\n",
      "  med_name = browser_txt.find_element_by_class_name(\"hilightBold\").text\n"
     ]
    }
   ],
   "source": [
    "med_name = browser_txt.find_element_by_class_name(\"hilightBold\").text\n",
    "_,result_text = med_name.split(\"\\n(Medical Transcription Sample Report)\\n\")"
   ]
  },
  {
   "cell_type": "code",
   "execution_count": 38,
   "id": "expanded-lottery",
   "metadata": {
    "scrolled": true
   },
   "outputs": [
    {
     "data": {
      "text/plain": [
       "\"REASON FOR REFERRAL: The patient was referred to me by Dr. X of the Clinic due to concerns regarding behavioral acting out as well as encopresis. This is a 90-minute initial intake completed on 10/03/2007. I met with the patient's mother individually for the entire session. I reviewed with her the treatment, consent form, as well as the boundaries of confidentiality, and she stated that she understood these concepts.\\n\\nPRESENTING PROBLEMS: Mother reported that her primary concern in regard to the patient had to do with his oppositionality. She was more ambivalent regarding addressing the encopresis. In regards to his oppositionality, she reported that the onset of his oppositionality was approximately at 4 years of age, that before that he had been a very compliant and happy child, and that he has slowly worsened over time. She noted that the oppositionality occurred approximately after his brother, who has multiple medical problems, was born. At that time, mother had spent 2 months back East with the brother due to his feeding issues and will have to go again next year. She reported that in terms of the behaviors that he loses his temper frequently, he argues with her that he defies her authority that she has to ask him many times to do things, that she has to repeat instructions, that he ignores her, that he whines, and this is when he is told to do something that he does not want to do. She reported that he deliberately annoys other people, that he can be angry and resentful. She reported that he does not display these behaviors with the father nor does he display them at home, but they are specific to her. She reported that her response to him typically is that she repeats what she wants him to do many, many times, that eventually she gets upset. She yells at him, talks with him, and tries to make him go and do what she wants him to do. Mother also noted that she probably ignores some his misbehaviors. She stated that the father tends to be more firm and more direct with him, and that, the father sometimes thinks that the mother is too easy on him. In regards to symptoms of depression, she denied symptoms of depression, noting that he tends to only become unhappy when he has to do something that he does not want to do, such as go to school or follow through on a command. She denied any suicidal ideation. She denied all symptoms of anxiety. PTSD was denied. ADHD symptoms were denied, as were all other symptoms of psychopathology.\\n\\nIn regards to the encopresis, she reported that he has always soiled, he does so 2 to 3 times a day. She reported that he is concerned about this issue. He currently wears underwear and had a pull-up. She reported that he was seen at the Gastroenterology Department here several years ago, and has more recently been seen at the Diseases Center, seen by Dr. Y, reported that the last visit was several months ago, that he is on MiraLax. He does sit on the toilet may be 2 times a day, although that is not consistent. Mother believes that he is probably constipated or impacted again. He refuses to eat any fiber. In regards to what happens when he soils, mother basically takes full responsibility. She cleans and changes his underwear, thinks of things that she has tried, she mostly gets frustrated, makes negative comments, even though she knows that he really cannot help it. She has never provided him with any sort of rewards, because she feels that this is something he just needs to learn to do. In regards to other issues, she noted that he becomes frustrated quite easily, especially around homework, that when mother has to correct him, or when he has had difficulty doing something that he becomes upset, that he will cry, and he will get angry. Mother's response to him is that either she gets agitated and raises her voice, tells him to stop etc. Mother reported it is not only with homework, but also with other tasks, such as if he is trying to build with his LEGOs and things do not go well.\\n\\nDEVELOPMENTAL BACKGROUND: The patient was reported to be the 8 pound 12 ounce product of a planned and noncomplicated pregnancy and emergency cesarean delivery. The patient presented in a breech position. Mother denied the use of drugs, alcohol, or tobacco during the pregnancy. No sleeping or eating issues were present in the perinatal period. Temperament was described as easy. He was described as a cuddly baby. No concerns expressed regarding his developmental milestones. No serious injuries reported. No hospitalizations or surgeries. No allergies. The patient has been encopretic for all of his life. He currently is taking MiraLax.\\n\\nFAMILY BACKGROUND: The patient lives with his mother who is age 37, and is primarily a homemaker, but does work approximately 48 hours a month as a beautician; with his father, age 35, who is a police officer; and also, with his younger brother who is age 3, and has significant medical problems as will be noted in a moment. Mother and father have been together since 1997, married in 1999. The maternal grandmother and grandfather are living and are together, and live in the Central California Coast Area. There is one maternal aunt, age 33, and then, two adopted maternal aunt and uncle, age 18 and age 13. In regards to the father's side of the family, the paternal grandparents are divorced. Grandfather was in Arkansas, grandmother lives in Dos Palos. The patient does not see his grandfather. Mother stated that her relationship with her child was as described, that he very much stresses her out, that she wishes that he was not so defiant, that she finds him to be a very stressful child to deal with. In regards to the relationship with the father, it was reported that the father tends to leave most of the parenting over to the mother, unless she specifically asks him to do something, and then, he will follow through and do it. He will step in and back mother up in terms of parenting, tell the child not to speak to his mother that way etc. Mother reported that he does spend some time with the children, but not as much as mother would like him to, but occasionally, he will go outside and do things with them. The mother reported that sometimes she has a problem in interfering with his parenting, that she steps in and defends The patient. It was reported that mother stated that she tries the parenting technique, primarily of yelling and tried time-out, although her description suggests that she is not doing time-out correctly, as he simply gets up from his time-out, and she does not follow through. Mother reported that she and the patient are very much alike in temperament, and this has made things more difficult. Mother tends to be stubborn and gets angry easily also. Mother reported becoming fatigued in her parenting, that she lets him get away with things sometimes because she does not want to punish him all day long, sometimes ignores problems that she probably should not ignore. There was reported to be jealousy between The patient and his brother, B. B evidently has some heart problems and feeding issues, and because of that, tends to get more attention in terms of his medical needs, and that the patient is very jealous of that attention and feels that B is favored and that he get things that The patient does not get, and that there is some tension between the brothers. They do play well together; however, The patient does tend to be somewhat intrusive, gets in his space, and then, B will hit him. Mother reported that she graduated from high school, went to Community College, and was an average student. No learning problems. Mother has a history of depression. She has currently been taking 100 mg of Zoloft administered by her primary medical doctor. She is not receiving counseling. She has been on the medications for the last 5 years. Her dosage has not been changed in a year. She feels that she is getting more irritable and more angry. I encouraged her to see a primary medical doctor. Mother has no drug or alcohol history. Father graduated from high school, went to the Police Academy, average student. No learning problems, no psychological problems, no drug or alcohol problems are reported. In terms of extended family, maternal grandmother as well as maternal great grandfather have a history of depression. Other psychiatric symptoms were denied in the family.\\n\\nMother reported that the marriage is generally okay, that there is some arguing. She reported that it was in the normal range.\\n\\nACADEMIC BACKGROUND: The patient attends the Roosevelt Elementary School, where he is in a regular first grade classroom with Mrs. The patient. This is in the Kingsburg Unified School District. No behavior problems, academic problems were reported. He does not receive special education services.\\n\\nSOCIAL HISTORY: The patient was described as being able to make and keep friends, but at this point in time, there has been no teasing regarding smell from the encopresis. He does have kids over to play at the house.\\n\\nPREVIOUS COUNSELING: Denied.\\n\\nDIAGNOSTIC SUMMARY AND IMPRESSION: My impression is that the patient has a long history of constipation and impaction, which has been treated medically, but it would appear that the mother has not followed through consistently with the behavioral component of toilet sitting, increased fiber, regular medication, so that the problem has likely continued. She also has not used any sort of rewards as a way to encourage him, in the encopresis. The patient clearly qualifies for a diagnosis of disruptive behavior disorder, not otherwise specified, and possibly oppositional defiant disorder. It would appear that mother needs help in her parenting, and that she tends to mostly use yelling and anger as a way, and tends to repeat herself a lot, and does not have a strategy for how to follow through and to deal with defiant behavior. Also, mother and father, may not be on the same page in terms of parenting.\\n\\nPLAN: In terms of my plan, I will meet with the child in the next couple of weeks. I also asked the mother to bring the father in, so he could be involved in the treatment also, and I gave the mother a behavioral checklist to be completed by herself and the father as well as the teacher.\\n\\nDSM IV DIAGNOSES:\\nAXIS I: Adjustment disorder with disturbance of conduct (309.3). Encopresis, without constipation, overflow incontinence (307.7)\\nAXIS II: No diagnoses (V71.09).\\nAXIS III: No diagnoses.\\nAXIS IV: Problems with primary support group.\\nAXIS V: Global assessment of functioning equals 65.\\n\\nSee More Samples on Psychiatry / Psychology\\nGo Back to Psychiatry / Psychology\\nView this sample in Blog format on MedicalTranscriptionSamples.com\\nKeywords: psychiatry / psychology, developmental background, axis, dsm iv, adjustment disorder, behavioral, adjustment, depression, oppositionality, encopresis,\""
      ]
     },
     "execution_count": 38,
     "metadata": {},
     "output_type": "execute_result"
    }
   ],
   "source": [
    "result_text"
   ]
  },
  {
   "cell_type": "code",
   "execution_count": 42,
   "id": "hourly-oxide",
   "metadata": {
    "scrolled": true
   },
   "outputs": [
    {
     "data": {
      "text/plain": [
       "\"REASON FOR REFERRAL: The patient was referred to me by Dr. X of the Clinic due to concerns regarding behavioral acting out as well as encopresis. This is a 90-minute initial intake completed on 10/03/2007. I met with the patient's mother individually for the entire session. I reviewed with her the treatment, consent form, as well as the boundaries of confidentiality, and she stated that she understood these concepts. PRESENTING PROBLEMS: Mother reported that her primary concern in regard to the patient had to do with his oppositionality. She was more ambivalent regarding addressing the encopresis. In regards to his oppositionality, she reported that the onset of his oppositionality was approximately at 4 years of age, that before that he had been a very compliant and happy child, and that he has slowly worsened over time. She noted that the oppositionality occurred approximately after his brother, who has multiple medical problems, was born. At that time, mother had spent 2 months back East with the brother due to his feeding issues and will have to go again next year. She reported that in terms of the behaviors that he loses his temper frequently, he argues with her that he defies her authority that she has to ask him many times to do things, that she has to repeat instructions, that he ignores her, that he whines, and this is when he is told to do something that he does not want to do. She reported that he deliberately annoys other people, that he can be angry and resentful. She reported that he does not display these behaviors with the father nor does he display them at home, but they are specific to her. She reported that her response to him typically is that she repeats what she wants him to do many, many times, that eventually she gets upset. She yells at him, talks with him, and tries to make him go and do what she wants him to do. Mother also noted that she probably ignores some his misbehaviors. She stated that the father tends to be more firm and more direct with him, and that, the father sometimes thinks that the mother is too easy on him. In regards to symptoms of depression, she denied symptoms of depression, noting that he tends to only become unhappy when he has to do something that he does not want to do, such as go to school or follow through on a command. She denied any suicidal ideation. She denied all symptoms of anxiety. PTSD was denied. ADHD symptoms were denied, as were all other symptoms of psychopathology. In regards to the encopresis, she reported that he has always soiled, he does so 2 to 3 times a day. She reported that he is concerned about this issue. He currently wears underwear and had a pull-up. She reported that he was seen at the Gastroenterology Department here several years ago, and has more recently been seen at the Diseases Center, seen by Dr. Y, reported that the last visit was several months ago, that he is on MiraLax. He does sit on the toilet may be 2 times a day, although that is not consistent. Mother believes that he is probably constipated or impacted again. He refuses to eat any fiber. In regards to what happens when he soils, mother basically takes full responsibility. She cleans and changes his underwear, thinks of things that she has tried, she mostly gets frustrated, makes negative comments, even though she knows that he really cannot help it. She has never provided him with any sort of rewards, because she feels that this is something he just needs to learn to do. In regards to other issues, she noted that he becomes frustrated quite easily, especially around homework, that when mother has to correct him, or when he has had difficulty doing something that he becomes upset, that he will cry, and he will get angry. Mother's response to him is that either she gets agitated and raises her voice, tells him to stop etc. Mother reported it is not only with homework, but also with other tasks, such as if he is trying to build with his LEGOs and things do not go well. DEVELOPMENTAL BACKGROUND: The patient was reported to be the 8 pound 12 ounce product of a planned and noncomplicated pregnancy and emergency cesarean delivery. The patient presented in a breech position. Mother denied the use of drugs, alcohol, or tobacco during the pregnancy. No sleeping or eating issues were present in the perinatal period. Temperament was described as easy. He was described as a cuddly baby. No concerns expressed regarding his developmental milestones. No serious injuries reported. No hospitalizations or surgeries. No allergies. The patient has been encopretic for all of his life. He currently is taking MiraLax. FAMILY BACKGROUND: The patient lives with his mother who is age 37, and is primarily a homemaker, but does work approximately 48 hours a month as a beautician; with his father, age 35, who is a police officer; and also, with his younger brother who is age 3, and has significant medical problems as will be noted in a moment. Mother and father have been together since 1997, married in 1999. The maternal grandmother and grandfather are living and are together, and live in the Central California Coast Area. There is one maternal aunt, age 33, and then, two adopted maternal aunt and uncle, age 18 and age 13. In regards to the father's side of the family, the paternal grandparents are divorced. Grandfather was in Arkansas, grandmother lives in Dos Palos. The patient does not see his grandfather. Mother stated that her relationship with her child was as described, that he very much stresses her out, that she wishes that he was not so defiant, that she finds him to be a very stressful child to deal with. In regards to the relationship with the father, it was reported that the father tends to leave most of the parenting over to the mother, unless she specifically asks him to do something, and then, he will follow through and do it. He will step in and back mother up in terms of parenting, tell the child not to speak to his mother that way etc. Mother reported that he does spend some time with the children, but not as much as mother would like him to, but occasionally, he will go outside and do things with them. The mother reported that sometimes she has a problem in interfering with his parenting, that she steps in and defends The patient. It was reported that mother stated that she tries the parenting technique, primarily of yelling and tried time-out, although her description suggests that she is not doing time-out correctly, as he simply gets up from his time-out, and she does not follow through. Mother reported that she and the patient are very much alike in temperament, and this has made things more difficult. Mother tends to be stubborn and gets angry easily also. Mother reported becoming fatigued in her parenting, that she lets him get away with things sometimes because she does not want to punish him all day long, sometimes ignores problems that she probably should not ignore. There was reported to be jealousy between The patient and his brother, B. B evidently has some heart problems and feeding issues, and because of that, tends to get more attention in terms of his medical needs, and that the patient is very jealous of that attention and feels that B is favored and that he get things that The patient does not get, and that there is some tension between the brothers. They do play well together; however, The patient does tend to be somewhat intrusive, gets in his space, and then, B will hit him. Mother reported that she graduated from high school, went to Community College, and was an average student. No learning problems. Mother has a history of depression. She has currently been taking 100 mg of Zoloft administered by her primary medical doctor. She is not receiving counseling. She has been on the medications for the last 5 years. Her dosage has not been changed in a year. She feels that she is getting more irritable and more angry. I encouraged her to see a primary medical doctor. Mother has no drug or alcohol history. Father graduated from high school, went to the Police Academy, average student. No learning problems, no psychological problems, no drug or alcohol problems are reported. In terms of extended family, maternal grandmother as well as maternal great grandfather have a history of depression. Other psychiatric symptoms were denied in the family. Mother reported that the marriage is generally okay, that there is some arguing. She reported that it was in the normal range. ACADEMIC BACKGROUND: The patient attends the Roosevelt Elementary School, where he is in a regular first grade classroom with Mrs. The patient. This is in the Kingsburg Unified School District. No behavior problems, academic problems were reported. He does not receive special education services. SOCIAL HISTORY: The patient was described as being able to make and keep friends, but at this point in time, there has been no teasing regarding smell from the encopresis. He does have kids over to play at the house. PREVIOUS COUNSELING: Denied. DIAGNOSTIC SUMMARY AND IMPRESSION: My impression is that the patient has a long history of constipation and impaction, which has been treated medically, but it would appear that the mother has not followed through consistently with the behavioral component of toilet sitting, increased fiber, regular medication, so that the problem has likely continued. She also has not used any sort of rewards as a way to encourage him, in the encopresis. The patient clearly qualifies for a diagnosis of disruptive behavior disorder, not otherwise specified, and possibly oppositional defiant disorder. It would appear that mother needs help in her parenting, and that she tends to mostly use yelling and anger as a way, and tends to repeat herself a lot, and does not have a strategy for how to follow through and to deal with defiant behavior. Also, mother and father, may not be on the same page in terms of parenting. PLAN: In terms of my plan, I will meet with the child in the next couple of weeks. I also asked the mother to bring the father in, so he could be involved in the treatment also, and I gave the mother a behavioral checklist to be completed by herself and the father as well as the teacher. DSM IV DIAGNOSES:\\nAXIS I: Adjustment disorder with disturbance of conduct (309.3). Encopresis, without constipation, overflow incontinence (307.7)\\nAXIS II: No diagnoses (V71.09).\\nAXIS III: No diagnoses.\\nAXIS IV: Problems with primary support group.\\nAXIS V: Global assessment of functioning equals 65. See More Samples on Psychiatry / Psychology\\nGo Back to Psychiatry / Psychology\\nView this sample in Blog format on MedicalTranscriptionSamples.com\\nKeywords: psychiatry / psychology, developmental background, axis, dsm iv, adjustment disorder, behavioral, adjustment, depression, oppositionality, encopresis,\""
      ]
     },
     "execution_count": 42,
     "metadata": {},
     "output_type": "execute_result"
    }
   ],
   "source": [
    "result_text2 = result_text.replace(\"\\n\\n\",\" \")\n",
    "result_text2"
   ]
  },
  {
   "cell_type": "code",
   "execution_count": 43,
   "id": "distinguished-balloon",
   "metadata": {
    "scrolled": true
   },
   "outputs": [
    {
     "data": {
      "text/plain": [
       "\"REASON FOR REFERRAL: The patient was referred to me by Dr. X of the Clinic due to concerns regarding behavioral acting out as well as encopresis. This is a 90-minute initial intake completed on 10/03/2007. I met with the patient's mother individually for the entire session. I reviewed with her the treatment, consent form, as well as the boundaries of confidentiality, and she stated that she understood these concepts. PRESENTING PROBLEMS: Mother reported that her primary concern in regard to the patient had to do with his oppositionality. She was more ambivalent regarding addressing the encopresis. In regards to his oppositionality, she reported that the onset of his oppositionality was approximately at 4 years of age, that before that he had been a very compliant and happy child, and that he has slowly worsened over time. She noted that the oppositionality occurred approximately after his brother, who has multiple medical problems, was born. At that time, mother had spent 2 months back East with the brother due to his feeding issues and will have to go again next year. She reported that in terms of the behaviors that he loses his temper frequently, he argues with her that he defies her authority that she has to ask him many times to do things, that she has to repeat instructions, that he ignores her, that he whines, and this is when he is told to do something that he does not want to do. She reported that he deliberately annoys other people, that he can be angry and resentful. She reported that he does not display these behaviors with the father nor does he display them at home, but they are specific to her. She reported that her response to him typically is that she repeats what she wants him to do many, many times, that eventually she gets upset. She yells at him, talks with him, and tries to make him go and do what she wants him to do. Mother also noted that she probably ignores some his misbehaviors. She stated that the father tends to be more firm and more direct with him, and that, the father sometimes thinks that the mother is too easy on him. In regards to symptoms of depression, she denied symptoms of depression, noting that he tends to only become unhappy when he has to do something that he does not want to do, such as go to school or follow through on a command. She denied any suicidal ideation. She denied all symptoms of anxiety. PTSD was denied. ADHD symptoms were denied, as were all other symptoms of psychopathology. In regards to the encopresis, she reported that he has always soiled, he does so 2 to 3 times a day. She reported that he is concerned about this issue. He currently wears underwear and had a pull-up. She reported that he was seen at the Gastroenterology Department here several years ago, and has more recently been seen at the Diseases Center, seen by Dr. Y, reported that the last visit was several months ago, that he is on MiraLax. He does sit on the toilet may be 2 times a day, although that is not consistent. Mother believes that he is probably constipated or impacted again. He refuses to eat any fiber. In regards to what happens when he soils, mother basically takes full responsibility. She cleans and changes his underwear, thinks of things that she has tried, she mostly gets frustrated, makes negative comments, even though she knows that he really cannot help it. She has never provided him with any sort of rewards, because she feels that this is something he just needs to learn to do. In regards to other issues, she noted that he becomes frustrated quite easily, especially around homework, that when mother has to correct him, or when he has had difficulty doing something that he becomes upset, that he will cry, and he will get angry. Mother's response to him is that either she gets agitated and raises her voice, tells him to stop etc. Mother reported it is not only with homework, but also with other tasks, such as if he is trying to build with his LEGOs and things do not go well. DEVELOPMENTAL BACKGROUND: The patient was reported to be the 8 pound 12 ounce product of a planned and noncomplicated pregnancy and emergency cesarean delivery. The patient presented in a breech position. Mother denied the use of drugs, alcohol, or tobacco during the pregnancy. No sleeping or eating issues were present in the perinatal period. Temperament was described as easy. He was described as a cuddly baby. No concerns expressed regarding his developmental milestones. No serious injuries reported. No hospitalizations or surgeries. No allergies. The patient has been encopretic for all of his life. He currently is taking MiraLax. FAMILY BACKGROUND: The patient lives with his mother who is age 37, and is primarily a homemaker, but does work approximately 48 hours a month as a beautician; with his father, age 35, who is a police officer; and also, with his younger brother who is age 3, and has significant medical problems as will be noted in a moment. Mother and father have been together since 1997, married in 1999. The maternal grandmother and grandfather are living and are together, and live in the Central California Coast Area. There is one maternal aunt, age 33, and then, two adopted maternal aunt and uncle, age 18 and age 13. In regards to the father's side of the family, the paternal grandparents are divorced. Grandfather was in Arkansas, grandmother lives in Dos Palos. The patient does not see his grandfather. Mother stated that her relationship with her child was as described, that he very much stresses her out, that she wishes that he was not so defiant, that she finds him to be a very stressful child to deal with. In regards to the relationship with the father, it was reported that the father tends to leave most of the parenting over to the mother, unless she specifically asks him to do something, and then, he will follow through and do it. He will step in and back mother up in terms of parenting, tell the child not to speak to his mother that way etc. Mother reported that he does spend some time with the children, but not as much as mother would like him to, but occasionally, he will go outside and do things with them. The mother reported that sometimes she has a problem in interfering with his parenting, that she steps in and defends The patient. It was reported that mother stated that she tries the parenting technique, primarily of yelling and tried time-out, although her description suggests that she is not doing time-out correctly, as he simply gets up from his time-out, and she does not follow through. Mother reported that she and the patient are very much alike in temperament, and this has made things more difficult. Mother tends to be stubborn and gets angry easily also. Mother reported becoming fatigued in her parenting, that she lets him get away with things sometimes because she does not want to punish him all day long, sometimes ignores problems that she probably should not ignore. There was reported to be jealousy between The patient and his brother, B. B evidently has some heart problems and feeding issues, and because of that, tends to get more attention in terms of his medical needs, and that the patient is very jealous of that attention and feels that B is favored and that he get things that The patient does not get, and that there is some tension between the brothers. They do play well together; however, The patient does tend to be somewhat intrusive, gets in his space, and then, B will hit him. Mother reported that she graduated from high school, went to Community College, and was an average student. No learning problems. Mother has a history of depression. She has currently been taking 100 mg of Zoloft administered by her primary medical doctor. She is not receiving counseling. She has been on the medications for the last 5 years. Her dosage has not been changed in a year. She feels that she is getting more irritable and more angry. I encouraged her to see a primary medical doctor. Mother has no drug or alcohol history. Father graduated from high school, went to the Police Academy, average student. No learning problems, no psychological problems, no drug or alcohol problems are reported. In terms of extended family, maternal grandmother as well as maternal great grandfather have a history of depression. Other psychiatric symptoms were denied in the family. Mother reported that the marriage is generally okay, that there is some arguing. She reported that it was in the normal range. ACADEMIC BACKGROUND: The patient attends the Roosevelt Elementary School, where he is in a regular first grade classroom with Mrs. The patient. This is in the Kingsburg Unified School District. No behavior problems, academic problems were reported. He does not receive special education services. SOCIAL HISTORY: The patient was described as being able to make and keep friends, but at this point in time, there has been no teasing regarding smell from the encopresis. He does have kids over to play at the house. PREVIOUS COUNSELING: Denied. DIAGNOSTIC SUMMARY AND IMPRESSION: My impression is that the patient has a long history of constipation and impaction, which has been treated medically, but it would appear that the mother has not followed through consistently with the behavioral component of toilet sitting, increased fiber, regular medication, so that the problem has likely continued. She also has not used any sort of rewards as a way to encourage him, in the encopresis. The patient clearly qualifies for a diagnosis of disruptive behavior disorder, not otherwise specified, and possibly oppositional defiant disorder. It would appear that mother needs help in her parenting, and that she tends to mostly use yelling and anger as a way, and tends to repeat herself a lot, and does not have a strategy for how to follow through and to deal with defiant behavior. Also, mother and father, may not be on the same page in terms of parenting. PLAN: In terms of my plan, I will meet with the child in the next couple of weeks. I also asked the mother to bring the father in, so he could be involved in the treatment also, and I gave the mother a behavioral checklist to be completed by herself and the father as well as the teacher. DSM IV DIAGNOSES: AXIS I: Adjustment disorder with disturbance of conduct (309.3). Encopresis, without constipation, overflow incontinence (307.7) AXIS II: No diagnoses (V71.09). AXIS III: No diagnoses. AXIS IV: Problems with primary support group. AXIS V: Global assessment of functioning equals 65.  Keywords: psychiatry / psychology, developmental background, axis, dsm iv, adjustment disorder, behavioral, adjustment, depression, oppositionality, encopresis,\""
      ]
     },
     "execution_count": 43,
     "metadata": {},
     "output_type": "execute_result"
    }
   ],
   "source": [
    "result_text3 = result_text2.replace(\"\\n\",\" \")\n",
    "result_text4 = result_text3.replace(\"See More Samples on Psychiatry / Psychology Go Back to Psychiatry / Psychology View this sample in Blog format on MedicalTranscriptionSamples.com\", \"\")\n",
    "result_text4"
   ]
  },
  {
   "cell_type": "code",
   "execution_count": null,
   "id": "identified-coalition",
   "metadata": {},
   "outputs": [],
   "source": []
  },
  {
   "cell_type": "code",
   "execution_count": 57,
   "id": "revolutionary-cabin",
   "metadata": {},
   "outputs": [],
   "source": [
    "links = pd.read_csv(\"link_data.csv\",header=0)"
   ]
  },
  {
   "cell_type": "code",
   "execution_count": null,
   "id": "green-person",
   "metadata": {},
   "outputs": [],
   "source": []
  },
  {
   "cell_type": "code",
   "execution_count": 60,
   "id": "unique-handling",
   "metadata": {},
   "outputs": [
    {
     "name": "stderr",
     "output_type": "stream",
     "text": [
      "<ipython-input-60-c795cbba4fd0>:9: DeprecationWarning: find_element_by_* commands are deprecated. Please use find_element() instead\n",
      "  full_text = driver_content.find_element_by_class_name(\"hilightBold\").text\n"
     ]
    }
   ],
   "source": [
    "# get contents\n",
    "\n",
    "links = pd.read_csv(\"links.csv\",header=0)\n",
    "count = 0\n",
    "transcription = [\"\"]*len(links)\n",
    "driver_content = webdriver.Chrome()\n",
    "for link in links['link'] :\n",
    "    driver_content.get(link)\n",
    "    full_text = driver_content.find_element_by_class_name(\"hilightBold\").text\n",
    "    _,result = full_text.split(\"\\n(Medical Transcription Sample Report)\\n\")\n",
    "    transcript, keyword= result.split(\"Keywords: \")\n",
    "    transcript = transcript[:transcript.rfind('\\n\\n')]\n",
    "    transcription[count] = transcript\n",
    "    count += 1\n",
    "    links['transcript'] = transcription\n",
    "    links.to_csv(\"psychiatry_psychology_mtsamples.csv\",index=False)"
   ]
  },
  {
   "cell_type": "code",
   "execution_count": 43,
   "id": "acceptable-house",
   "metadata": {},
   "outputs": [],
   "source": [
    "def get_medical_notes(url_link):\n",
    "\n",
    "    global medical_notes\n",
    "    medical_notes = []\n",
    "    \n",
    "    \n",
    "    # We will loop through each of the url links provided as input for the function\n",
    "\n",
    "    for i in url_link:\n",
    "\n",
    "        url = i\n",
    "        res = requests.get(url)\n",
    "        res.raise_for_status()\n",
    "        html = res.text\n",
    "        soup = BeautifulSoup(html, 'html.parser')\n",
    "        \n",
    "        \n",
    "        # Here we can get page_title from <h1>\n",
    "\n",
    "        title_el = soup.find('h1')\n",
    "        page_title = title_el.text.strip()\n",
    "        first_hr = title_el.find_next_sibling('hr')\n",
    "        \n",
    "        \n",
    "        # Here we can get the page_title description after we see the text 'description'\n",
    "\n",
    "        description_title = title_el.find_next_sibling('b', text=re.compile('description', flags=re.I))\n",
    "        description_text_parts = []\n",
    "        for s in description_title.next_siblings:\n",
    "            if s is first_hr:\n",
    "                break\n",
    "            if isinstance(s, Tag):\n",
    "                description_text_parts.append(s.text.strip())\n",
    "            elif isinstance(s, NavigableString):\n",
    "                description_text_parts.append(str(s).strip())\n",
    "        description_text = '\\n'.join(p for p in description_text_parts if p.strip())\n",
    "\n",
    "        \n",
    "        # Titles are all bold and uppercase\n",
    "        \n",
    "        titles = [b for b in first_hr.find_next_siblings('b') if b.text.strip().isupper()]\n",
    "        \n",
    "        \n",
    "        # We can find the text between the titles and assign it to the title we see earlier\n",
    "\n",
    "        docs = []\n",
    "        \n",
    "        for t in titles:\n",
    "            text_parts = []\n",
    "            for s in t.next_siblings:\n",
    "                \n",
    "                # go until next title\n",
    "                \n",
    "                if s in titles:\n",
    "                    break\n",
    "                if isinstance(s, Comment):\n",
    "                    continue\n",
    "                if isinstance(s, Tag):\n",
    "                    if s.name == 'div':\n",
    "                        break\n",
    "                    text_parts.append(s.text.strip())\n",
    "                elif isinstance(s, NavigableString):\n",
    "                    text_parts.append(str(s).strip())\n",
    "                    \n",
    "            text = '\\n'.join(p for p in text_parts if p.strip())\n",
    "            \n",
    "            docs.append({\n",
    "                'title': t.text.strip(),\n",
    "                'text': text\n",
    "            })\n",
    "            \n",
    "            \n",
    "        # Clean the text in docs such that we have one full_text document of medical notes\n",
    "        \n",
    "        lis = []\n",
    "\n",
    "        for j in docs:\n",
    "            for k in j.values():\n",
    "                lis.append(k.rstrip('\\n'))\n",
    "\n",
    "        full_text = ''.join(lis)\n",
    "        \n",
    "        \n",
    "        # Append to our medical_notes list\n",
    "\n",
    "        medical_notes.append(full_text)\n",
    "\n",
    "    len(medical_notes)"
   ]
  },
  {
   "cell_type": "code",
   "execution_count": 44,
   "id": "corporate-brown",
   "metadata": {},
   "outputs": [
    {
     "ename": "AttributeError",
     "evalue": "'NoneType' object has no attribute 'next_siblings'",
     "output_type": "error",
     "traceback": [
      "\u001b[0;31m---------------------------------------------------------------------------\u001b[0m",
      "\u001b[0;31mAttributeError\u001b[0m                            Traceback (most recent call last)",
      "\u001b[0;32m<ipython-input-44-805e5818ad62>\u001b[0m in \u001b[0;36m<module>\u001b[0;34m\u001b[0m\n\u001b[1;32m      1\u001b[0m \u001b[0;31m# Get and clean all medical notes for the specified medical specialty\u001b[0m\u001b[0;34m\u001b[0m\u001b[0;34m\u001b[0m\u001b[0;34m\u001b[0m\u001b[0m\n\u001b[1;32m      2\u001b[0m \u001b[0;34m\u001b[0m\u001b[0m\n\u001b[0;32m----> 3\u001b[0;31m \u001b[0mget_medical_notes\u001b[0m\u001b[0;34m(\u001b[0m\u001b[0mpsy_url_list\u001b[0m\u001b[0;34m)\u001b[0m\u001b[0;34m\u001b[0m\u001b[0;34m\u001b[0m\u001b[0m\n\u001b[0m\u001b[1;32m      4\u001b[0m \u001b[0;34m\u001b[0m\u001b[0m\n\u001b[1;32m      5\u001b[0m \u001b[0mpsy_medical_notes\u001b[0m \u001b[0;34m=\u001b[0m \u001b[0mmedical_notes\u001b[0m\u001b[0;34m\u001b[0m\u001b[0;34m\u001b[0m\u001b[0m\n",
      "\u001b[0;32m<ipython-input-43-df141a24ca87>\u001b[0m in \u001b[0;36mget_medical_notes\u001b[0;34m(url_link)\u001b[0m\n\u001b[1;32m     27\u001b[0m         \u001b[0mdescription_title\u001b[0m \u001b[0;34m=\u001b[0m \u001b[0mtitle_el\u001b[0m\u001b[0;34m.\u001b[0m\u001b[0mfind_next_sibling\u001b[0m\u001b[0;34m(\u001b[0m\u001b[0;34m'b'\u001b[0m\u001b[0;34m,\u001b[0m \u001b[0mtext\u001b[0m\u001b[0;34m=\u001b[0m\u001b[0mre\u001b[0m\u001b[0;34m.\u001b[0m\u001b[0mcompile\u001b[0m\u001b[0;34m(\u001b[0m\u001b[0;34m'description'\u001b[0m\u001b[0;34m,\u001b[0m \u001b[0mflags\u001b[0m\u001b[0;34m=\u001b[0m\u001b[0mre\u001b[0m\u001b[0;34m.\u001b[0m\u001b[0mI\u001b[0m\u001b[0;34m)\u001b[0m\u001b[0;34m)\u001b[0m\u001b[0;34m\u001b[0m\u001b[0;34m\u001b[0m\u001b[0m\n\u001b[1;32m     28\u001b[0m         \u001b[0mdescription_text_parts\u001b[0m \u001b[0;34m=\u001b[0m \u001b[0;34m[\u001b[0m\u001b[0;34m]\u001b[0m\u001b[0;34m\u001b[0m\u001b[0;34m\u001b[0m\u001b[0m\n\u001b[0;32m---> 29\u001b[0;31m         \u001b[0;32mfor\u001b[0m \u001b[0ms\u001b[0m \u001b[0;32min\u001b[0m \u001b[0mdescription_title\u001b[0m\u001b[0;34m.\u001b[0m\u001b[0mnext_siblings\u001b[0m\u001b[0;34m:\u001b[0m\u001b[0;34m\u001b[0m\u001b[0;34m\u001b[0m\u001b[0m\n\u001b[0m\u001b[1;32m     30\u001b[0m             \u001b[0;32mif\u001b[0m \u001b[0ms\u001b[0m \u001b[0;32mis\u001b[0m \u001b[0mfirst_hr\u001b[0m\u001b[0;34m:\u001b[0m\u001b[0;34m\u001b[0m\u001b[0;34m\u001b[0m\u001b[0m\n\u001b[1;32m     31\u001b[0m                 \u001b[0;32mbreak\u001b[0m\u001b[0;34m\u001b[0m\u001b[0;34m\u001b[0m\u001b[0m\n",
      "\u001b[0;31mAttributeError\u001b[0m: 'NoneType' object has no attribute 'next_siblings'"
     ]
    }
   ],
   "source": [
    "# Get and clean all medical notes for the specified medical specialty \n",
    "\n",
    "get_medical_notes(psy_url_list)\n",
    "\n",
    "psy_medical_notes = medical_notes\n",
    "len(psy_medical_notes)"
   ]
  },
  {
   "cell_type": "code",
   "execution_count": null,
   "id": "convenient-algebra",
   "metadata": {},
   "outputs": [],
   "source": [
    "psy_medical_notes"
   ]
  },
  {
   "cell_type": "code",
   "execution_count": null,
   "id": "contemporary-reform",
   "metadata": {},
   "outputs": [],
   "source": []
  },
  {
   "cell_type": "code",
   "execution_count": 11,
   "id": "absolute-record",
   "metadata": {},
   "outputs": [],
   "source": [
    "url_1 = 'https://www.mtsamples.com/site/pages/sample.asp?Type=72-Psychiatry%20/%20Psychology&Sample=1291-Adjustment%20Disorder%20&%20Encopresis'\n",
    "\n",
    "soup_1 = BeautifulSoup(requests.get(url_1).text, 'lxml')\n",
    "\n",
    "data_1 = [(title.get_text(strip=True).replace(':', ''), title.next_sibling.strip()) for title in soup_1.select('#sampletext b:contains(\":\")')]\n",
    "\n",
    "from textwrap import wrap\n",
    "\n",
    "for (title, text) in data_1[:-1]: # -1 because we don't want last 'Keywords' row\n",
    "    print('Title:', title)\n",
    "    print('Text:')\n",
    "    print('\\n'.join('\\t' + t for t in wrap(text, width=70)))\n",
    "    print('*' * 80)"
   ]
  },
  {
   "cell_type": "code",
   "execution_count": null,
   "id": "grateful-oxford",
   "metadata": {},
   "outputs": [],
   "source": [
    "# # save result to csv file\n",
    "\n",
    "# link_data = pd.DataFrame(links,columns=[\"sample_name\",\"description\",\"link\"])\n",
    "# link_data.to_csv(\"links.csv\",index=False)"
   ]
  },
  {
   "cell_type": "code",
   "execution_count": null,
   "id": "sustained-fundamentals",
   "metadata": {},
   "outputs": [],
   "source": [
    "# link_data.head()"
   ]
  },
  {
   "cell_type": "code",
   "execution_count": null,
   "id": "naked-fitness",
   "metadata": {},
   "outputs": [],
   "source": [
    "# # get contents\n",
    "\n",
    "# data = pd.read_csv(\"links.csv\",header=0)\n",
    "# transcription = [\"\"]*len(links)\n",
    "# driver_content = webdriver.Chrome()"
   ]
  },
  {
   "cell_type": "code",
   "execution_count": null,
   "id": "unlimited-homework",
   "metadata": {
    "scrolled": true
   },
   "outputs": [
    {
     "name": "stderr",
     "output_type": "stream",
     "text": [
      "<ipython-input-12-120a2e0ba326>:4: DeprecationWarning: find_element_by_* commands are deprecated. Please use find_element() instead\n",
      "  text = driver_content.find_element_by_class_name(\"hilightBold\").text\n"
     ]
    }
   ],
   "source": [
    "# count = 0\n",
    "# for link in data['link']:\n",
    "#     driver_content.get(link)\n",
    "#     text = driver_content.find_element_by_class_name(\"hilightBold\").text\n",
    "#     _,result = text\n",
    "#     transcription[count] = transcription\n",
    "#     count += 1\n",
    "#     data['records'] = transcription\n",
    "#     # export data\n",
    "#     data.to_csv(\"psychiatry_psychology_mtsamples.csv\",index=False)"
   ]
  },
  {
   "cell_type": "code",
   "execution_count": null,
   "id": "prompt-heater",
   "metadata": {},
   "outputs": [],
   "source": [
    "# data"
   ]
  },
  {
   "cell_type": "code",
   "execution_count": null,
   "id": "simple-quarterly",
   "metadata": {},
   "outputs": [],
   "source": [
    "# data.to_csv(\"psychiatry_psychology_mtsamples.csv\",index=False)"
   ]
  }
 ],
 "metadata": {
  "kernelspec": {
   "display_name": "Python 3",
   "language": "python",
   "name": "python3"
  },
  "language_info": {
   "codemirror_mode": {
    "name": "ipython",
    "version": 3
   },
   "file_extension": ".py",
   "mimetype": "text/x-python",
   "name": "python",
   "nbconvert_exporter": "python",
   "pygments_lexer": "ipython3",
   "version": "3.8.8"
  }
 },
 "nbformat": 4,
 "nbformat_minor": 5
}
