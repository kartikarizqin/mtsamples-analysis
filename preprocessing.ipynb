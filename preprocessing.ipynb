{
 "cells": [
  {
   "cell_type": "code",
   "execution_count": 14,
   "id": "threatened-federal",
   "metadata": {},
   "outputs": [],
   "source": [
    "import re, string, unicodedata\n",
    "import pandas as pd\n",
    "import nltk\n",
    "from nltk import word_tokenize, sent_tokenize\n",
    "from nltk.corpus import stopwords\n",
    "from helper import *\n",
    "import warnings\n",
    "warnings.filterwarnings('ignore')"
   ]
  },
  {
   "cell_type": "code",
   "execution_count": 15,
   "id": "mechanical-mongolia",
   "metadata": {},
   "outputs": [],
   "source": [
    "stop = set(stopwords.words('english'))"
   ]
  },
  {
   "cell_type": "code",
   "execution_count": 16,
   "id": "injured-electricity",
   "metadata": {},
   "outputs": [],
   "source": [
    "data = pd.read_csv(\"psychiatry_psychology_mtsamples.csv\")"
   ]
  },
  {
   "cell_type": "code",
   "execution_count": 17,
   "id": "intelligent-ethnic",
   "metadata": {},
   "outputs": [
    {
     "data": {
      "text/html": [
       "<div>\n",
       "<style scoped>\n",
       "    .dataframe tbody tr th:only-of-type {\n",
       "        vertical-align: middle;\n",
       "    }\n",
       "\n",
       "    .dataframe tbody tr th {\n",
       "        vertical-align: top;\n",
       "    }\n",
       "\n",
       "    .dataframe thead th {\n",
       "        text-align: right;\n",
       "    }\n",
       "</style>\n",
       "<table border=\"1\" class=\"dataframe\">\n",
       "  <thead>\n",
       "    <tr style=\"text-align: right;\">\n",
       "      <th></th>\n",
       "      <th>sample_name</th>\n",
       "      <th>description</th>\n",
       "      <th>link</th>\n",
       "      <th>medical_reports</th>\n",
       "    </tr>\n",
       "  </thead>\n",
       "  <tbody>\n",
       "    <tr>\n",
       "      <th>0</th>\n",
       "      <td>Adjustment Disorder &amp; Encopresis</td>\n",
       "      <td>The patient was referred due to concerns regar...</td>\n",
       "      <td>https://www.mtsamples.com/site/pages/sample.as...</td>\n",
       "      <td>REASON FOR REFERRAL: The patient was referred ...</td>\n",
       "    </tr>\n",
       "    <tr>\n",
       "      <th>1</th>\n",
       "      <td>Agitation - ER Visit</td>\n",
       "      <td>Acute episode of agitation. She was complainin...</td>\n",
       "      <td>https://www.mtsamples.com/site/pages/sample.as...</td>\n",
       "      <td>CHIEF COMPLAINT: Agitation. HISTORY OF PRESENT...</td>\n",
       "    </tr>\n",
       "    <tr>\n",
       "      <th>2</th>\n",
       "      <td>Asperger Disorder</td>\n",
       "      <td>School reports continuing difficulties with re...</td>\n",
       "      <td>https://www.mtsamples.com/site/pages/sample.as...</td>\n",
       "      <td>SUBJECTIVE: School reports continuing difficul...</td>\n",
       "    </tr>\n",
       "    <tr>\n",
       "      <th>3</th>\n",
       "      <td>Attempted Suicide - Consult</td>\n",
       "      <td>The patient is a 21-year-old Caucasian male, w...</td>\n",
       "      <td>https://www.mtsamples.com/site/pages/sample.as...</td>\n",
       "      <td>IDENTIFYING DATA: The patient is a 21-year-old...</td>\n",
       "    </tr>\n",
       "    <tr>\n",
       "      <th>4</th>\n",
       "      <td>Bipolar Affective Disorder - Consult</td>\n",
       "      <td>The patient has a manic disorder, is presently...</td>\n",
       "      <td>https://www.mtsamples.com/site/pages/sample.as...</td>\n",
       "      <td>IDENTIFYING DATA: The patient is a 35-year-old...</td>\n",
       "    </tr>\n",
       "  </tbody>\n",
       "</table>\n",
       "</div>"
      ],
      "text/plain": [
       "                            sample_name  \\\n",
       "0      Adjustment Disorder & Encopresis   \n",
       "1                  Agitation - ER Visit   \n",
       "2                     Asperger Disorder   \n",
       "3           Attempted Suicide - Consult   \n",
       "4  Bipolar Affective Disorder - Consult   \n",
       "\n",
       "                                         description  \\\n",
       "0  The patient was referred due to concerns regar...   \n",
       "1  Acute episode of agitation. She was complainin...   \n",
       "2  School reports continuing difficulties with re...   \n",
       "3  The patient is a 21-year-old Caucasian male, w...   \n",
       "4  The patient has a manic disorder, is presently...   \n",
       "\n",
       "                                                link  \\\n",
       "0  https://www.mtsamples.com/site/pages/sample.as...   \n",
       "1  https://www.mtsamples.com/site/pages/sample.as...   \n",
       "2  https://www.mtsamples.com/site/pages/sample.as...   \n",
       "3  https://www.mtsamples.com/site/pages/sample.as...   \n",
       "4  https://www.mtsamples.com/site/pages/sample.as...   \n",
       "\n",
       "                                     medical_reports  \n",
       "0  REASON FOR REFERRAL: The patient was referred ...  \n",
       "1  CHIEF COMPLAINT: Agitation. HISTORY OF PRESENT...  \n",
       "2  SUBJECTIVE: School reports continuing difficul...  \n",
       "3  IDENTIFYING DATA: The patient is a 21-year-old...  \n",
       "4  IDENTIFYING DATA: The patient is a 35-year-old...  "
      ]
     },
     "execution_count": 17,
     "metadata": {},
     "output_type": "execute_result"
    }
   ],
   "source": [
    "data.head()"
   ]
  },
  {
   "cell_type": "code",
   "execution_count": 18,
   "id": "lasting-terror",
   "metadata": {},
   "outputs": [],
   "source": [
    "data['text'] = data['sample_name'].str.cat(data['description'],sep=\" \").str.cat(data['medical_reports'],sep=\" \")\n",
    "df = data\n",
    "# df.head()"
   ]
  },
  {
   "cell_type": "code",
   "execution_count": 19,
   "id": "chief-certificate",
   "metadata": {},
   "outputs": [],
   "source": [
    "df = df.drop(df.columns[[0, 1, 2, 3]], axis=1)"
   ]
  },
  {
   "cell_type": "code",
   "execution_count": 20,
   "id": "swiss-intensity",
   "metadata": {},
   "outputs": [
    {
     "data": {
      "text/html": [
       "<div>\n",
       "<style scoped>\n",
       "    .dataframe tbody tr th:only-of-type {\n",
       "        vertical-align: middle;\n",
       "    }\n",
       "\n",
       "    .dataframe tbody tr th {\n",
       "        vertical-align: top;\n",
       "    }\n",
       "\n",
       "    .dataframe thead th {\n",
       "        text-align: right;\n",
       "    }\n",
       "</style>\n",
       "<table border=\"1\" class=\"dataframe\">\n",
       "  <thead>\n",
       "    <tr style=\"text-align: right;\">\n",
       "      <th></th>\n",
       "      <th>text</th>\n",
       "    </tr>\n",
       "  </thead>\n",
       "  <tbody>\n",
       "    <tr>\n",
       "      <th>0</th>\n",
       "      <td>Adjustment Disorder &amp; Encopresis The patient w...</td>\n",
       "    </tr>\n",
       "    <tr>\n",
       "      <th>1</th>\n",
       "      <td>Agitation - ER Visit Acute episode of agitatio...</td>\n",
       "    </tr>\n",
       "    <tr>\n",
       "      <th>2</th>\n",
       "      <td>Asperger Disorder School reports continuing di...</td>\n",
       "    </tr>\n",
       "    <tr>\n",
       "      <th>3</th>\n",
       "      <td>Attempted Suicide - Consult The patient is a 2...</td>\n",
       "    </tr>\n",
       "    <tr>\n",
       "      <th>4</th>\n",
       "      <td>Bipolar Affective Disorder - Consult The patie...</td>\n",
       "    </tr>\n",
       "  </tbody>\n",
       "</table>\n",
       "</div>"
      ],
      "text/plain": [
       "                                                text\n",
       "0  Adjustment Disorder & Encopresis The patient w...\n",
       "1  Agitation - ER Visit Acute episode of agitatio...\n",
       "2  Asperger Disorder School reports continuing di...\n",
       "3  Attempted Suicide - Consult The patient is a 2...\n",
       "4  Bipolar Affective Disorder - Consult The patie..."
      ]
     },
     "execution_count": 20,
     "metadata": {},
     "output_type": "execute_result"
    }
   ],
   "source": [
    "df.head()"
   ]
  },
  {
   "cell_type": "code",
   "execution_count": 21,
   "id": "binary-assurance",
   "metadata": {},
   "outputs": [],
   "source": [
    "df_list = df.values.tolist()"
   ]
  },
  {
   "cell_type": "code",
   "execution_count": 22,
   "id": "lonely-tennessee",
   "metadata": {},
   "outputs": [],
   "source": [
    "# df_list"
   ]
  },
  {
   "cell_type": "code",
   "execution_count": 23,
   "id": "relative-choir",
   "metadata": {},
   "outputs": [],
   "source": [
    "import numpy as np\n",
    "data_chunks = np.array_split(df_list, 10)"
   ]
  },
  {
   "cell_type": "code",
   "execution_count": 24,
   "id": "dated-republican",
   "metadata": {},
   "outputs": [],
   "source": [
    "# preprocessing\n",
    "\n",
    "def cleaning(str):\n",
    "    #remove digit or numbers\n",
    "#     str = re.sub(r\"\\b\\d+\\b\", \" \", str)\n",
    "    #remove digit from string\n",
    "#     str = re.sub(\"\\S*\\d\\S*\", \"\", str).strip()\n",
    "#     remove digit\n",
    "#     str = re.sub(r'[^a-z ]*([.0-9])*\\d', '', str)\n",
    "    #remove punctuations\n",
    "    str = re.sub(r'[^\\w]|_',' ',str)\n",
    "#     remove numbers except inside words\n",
    "#     str = re.sub(\" \\d+\", \" \", str)\n",
    "    str = re.sub(\"^\\d+\\s|\\s\\d+\\s|\\s\\d+$\", \" \", str)\n",
    "    #to lowercase\n",
    "    str = str.lower()\n",
    "    #remove word with less than 2 alphabets\n",
    "#     str = re.sub(r'\\W*\\b\\w{1,2}\\b', ' ', str)\n",
    "    #Remove additional white spaces\n",
    "#     str = re.sub('[\\s]+', ' ', str)\n",
    "    return str\n",
    "\n",
    "#remove sentence which contains only 3 word\\n\",\n",
    "def removeSentence(str):\n",
    "    word = str.split()\n",
    "    wordCount = len(word)\n",
    "    if(wordCount<=3):\n",
    "        str = ''\n",
    "    return str\n",
    "\n",
    "def removeStopword(str):\n",
    "    stop_words = set(stopwords.words('english'))\n",
    "    word_tokens = word_tokenize(str)\n",
    "    filtered_sentence = [w for w in word_tokens if not w in stop_words]\n",
    "    return ' '.join(filtered_sentence)\n",
    "        \n",
    "def preprocessing(str):\n",
    "    str = cleaning(str)\n",
    "    str = removeStopword(str)\n",
    "    str = removeSentence(str)\n",
    "    return str"
   ]
  },
  {
   "cell_type": "code",
   "execution_count": 25,
   "id": "offensive-mountain",
   "metadata": {},
   "outputs": [],
   "source": [
    "cleaned = []\n",
    "\n",
    "for text in df['text']:\n",
    "    new_txt = preprocessing(text)\n",
    "    cleaned.append(new_txt)"
   ]
  },
  {
   "cell_type": "code",
   "execution_count": 26,
   "id": "impressive-stability",
   "metadata": {},
   "outputs": [
    {
     "data": {
      "text/html": [
       "<div>\n",
       "<style scoped>\n",
       "    .dataframe tbody tr th:only-of-type {\n",
       "        vertical-align: middle;\n",
       "    }\n",
       "\n",
       "    .dataframe tbody tr th {\n",
       "        vertical-align: top;\n",
       "    }\n",
       "\n",
       "    .dataframe thead th {\n",
       "        text-align: right;\n",
       "    }\n",
       "</style>\n",
       "<table border=\"1\" class=\"dataframe\">\n",
       "  <thead>\n",
       "    <tr style=\"text-align: right;\">\n",
       "      <th></th>\n",
       "      <th>text</th>\n",
       "    </tr>\n",
       "  </thead>\n",
       "  <tbody>\n",
       "    <tr>\n",
       "      <th>0</th>\n",
       "      <td>adjustment disorder encopresis patient referre...</td>\n",
       "    </tr>\n",
       "    <tr>\n",
       "      <th>1</th>\n",
       "      <td>agitation er visit acute episode agitation com...</td>\n",
       "    </tr>\n",
       "    <tr>\n",
       "      <th>2</th>\n",
       "      <td>asperger disorder school reports continuing di...</td>\n",
       "    </tr>\n",
       "    <tr>\n",
       "      <th>3</th>\n",
       "      <td>attempted suicide consult patient year old cau...</td>\n",
       "    </tr>\n",
       "    <tr>\n",
       "      <th>4</th>\n",
       "      <td>bipolar affective disorder consult patient man...</td>\n",
       "    </tr>\n",
       "  </tbody>\n",
       "</table>\n",
       "</div>"
      ],
      "text/plain": [
       "                                                text\n",
       "0  adjustment disorder encopresis patient referre...\n",
       "1  agitation er visit acute episode agitation com...\n",
       "2  asperger disorder school reports continuing di...\n",
       "3  attempted suicide consult patient year old cau...\n",
       "4  bipolar affective disorder consult patient man..."
      ]
     },
     "execution_count": 26,
     "metadata": {},
     "output_type": "execute_result"
    }
   ],
   "source": [
    "df_cleaned = pd.DataFrame(cleaned,columns=[\"text\"])\n",
    "df_cleaned.head()"
   ]
  },
  {
   "cell_type": "code",
   "execution_count": 27,
   "id": "sweet-bryan",
   "metadata": {},
   "outputs": [],
   "source": [
    "df_cleaned.to_csv(\"psy_cleaned.csv\", index=False)"
   ]
  },
  {
   "cell_type": "code",
   "execution_count": null,
   "id": "saving-citation",
   "metadata": {},
   "outputs": [],
   "source": []
  },
  {
   "cell_type": "code",
   "execution_count": null,
   "id": "transsexual-somalia",
   "metadata": {},
   "outputs": [],
   "source": []
  }
 ],
 "metadata": {
  "kernelspec": {
   "display_name": "Python 3",
   "language": "python",
   "name": "python3"
  },
  "language_info": {
   "codemirror_mode": {
    "name": "ipython",
    "version": 3
   },
   "file_extension": ".py",
   "mimetype": "text/x-python",
   "name": "python",
   "nbconvert_exporter": "python",
   "pygments_lexer": "ipython3",
   "version": "3.8.8"
  }
 },
 "nbformat": 4,
 "nbformat_minor": 5
}
